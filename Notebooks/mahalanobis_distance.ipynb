{
  "cells": [
    {
      "cell_type": "code",
      "execution_count": 57,
      "metadata": {
        "id": "jEAyqsXNsIal"
      },
      "outputs": [],
      "source": [
        "import os\n",
        "import sys\n",
        "import os.path as op\n",
        "from torch.nn import functional as F\n",
        "import numpy as np\n",
        "import random\n",
        "import matplotlib.pyplot as plt\n",
        "\n",
        "from nltk import word_tokenize\n",
        "from torch.nn.utils.rnn import pad_sequence\n",
        "import gdown\n",
        "from glob import glob\n",
        "from sklearn.model_selection import train_test_split\n"
      ]
    },
    {
      "cell_type": "markdown",
      "metadata": {
        "id": "y9Dq0_4rW3dY"
      },
      "source": [
        "# Load Datasets"
      ]
    },
    {
      "cell_type": "markdown",
      "metadata": {
        "id": "Pzhb1DaGW6AK"
      },
      "source": [
        "## Load IMDB Dataset"
      ]
    },
    {
      "cell_type": "code",
      "execution_count": 2,
      "metadata": {
        "colab": {
          "base_uri": "https://localhost:8080/"
        },
        "id": "6Rk_azBxsIan",
        "outputId": "22a7fefe-4e17-4f9f-bf90-d83d37f2435f"
      },
      "outputs": [
        {
          "name": "stderr",
          "output_type": "stream",
          "text": [
            "Downloading...\n",
            "From: http://ai.stanford.edu/~amaas/data/sentiment/aclImdb_v1.tar.gz\n",
            "To: /content/aclImdb_v1.tar.gz\n",
            "100%|██████████| 84.1M/84.1M [00:09<00:00, 8.80MB/s]\n"
          ]
        }
      ],
      "source": [
        "# For those on google colab: you can download the files directly with this:\n",
        "gdown.download(\"http://ai.stanford.edu/~amaas/data/sentiment/aclImdb_v1.tar.gz\", output=\"aclImdb_v1.tar.gz\", quiet=False)\n",
        "!tar xzf /content/aclImdb_v1.tar.gz"
      ]
    },
    {
      "cell_type": "code",
      "execution_count": 1,
      "metadata": {
        "id": "TqMp4BJxXO6H"
      },
      "outputs": [],
      "source": [
        "def get_imdb_dataset():\n",
        "    # We get the files from the path: ./aclImdb/train/neg for negative reviews, and ./aclImdb/train/pos for positive reviews\n",
        "    imdb_train_filenames_neg = sorted(\n",
        "        glob(op.join(\".\", \"aclImdb\", \"train\", \"neg\", \"*.txt\"))\n",
        "    )\n",
        "    imdb_train_filenames_pos = sorted(\n",
        "        glob(op.join(\".\", \"aclImdb\", \"train\", \"pos\", \"*.txt\"))\n",
        "    )\n",
        "\n",
        "    imdb_test_filenames_neg = sorted(\n",
        "        glob(op.join(\".\", \"aclImdb\", \"test\", \"neg\", \"*.txt\"))\n",
        "    )\n",
        "    imdb_test_filenames_pos = sorted(\n",
        "        glob(op.join(\".\", \"aclImdb\", \"test\", \"pos\", \"*.txt\"))\n",
        "    )\n",
        "\n",
        "    # Each files contains a review that consists in one line of text: we put this string in two lists, that we concatenate\n",
        "    imdb_train_texts_neg = [\n",
        "        open(f, encoding=\"utf8\").read() for f in imdb_train_filenames_neg\n",
        "    ]\n",
        "    imdb_train_texts_pos = [\n",
        "        open(f, encoding=\"utf8\").read() for f in imdb_train_filenames_pos\n",
        "    ]\n",
        "    imdb_train_texts = imdb_train_texts_neg + imdb_train_texts_pos\n",
        "\n",
        "    imdb_test_texts_neg = [\n",
        "        open(f, encoding=\"utf8\").read() for f in imdb_test_filenames_neg\n",
        "    ]\n",
        "    imdb_test_texts_pos = [\n",
        "        open(f, encoding=\"utf8\").read() for f in imdb_test_filenames_pos\n",
        "    ]\n",
        "    imdb_test_texts = imdb_test_texts_neg + imdb_test_texts_pos\n",
        "\n",
        "    # The first half of the elements of the list are string of negative reviews, and the second half positive ones\n",
        "    # We create the labels, as an array of [1,len(texts)], filled with 1, and change the first half to 0\n",
        "    imdb_train_labels = np.ones(len(imdb_train_texts), dtype=int)\n",
        "    imdb_train_labels[: len(imdb_train_texts_neg)] = 0.0\n",
        "\n",
        "    imdb_test_labels = np.ones(len(imdb_test_texts), dtype=int)\n",
        "    imdb_test_labels[: len(imdb_test_texts_neg)] = 0.0\n",
        "\n",
        "    train_texts, test_texts, train_labels, test_labels = train_test_split(\n",
        "        imdb_train_texts, imdb_train_labels, test_size=0.2\n",
        "    )\n",
        "\n",
        "    return train_texts, test_texts, train_labels, test_labels"
      ]
    },
    {
      "cell_type": "code",
      "execution_count": 32,
      "metadata": {
        "id": "dUdemhZKsIao"
      },
      "outputs": [],
      "source": [
        "imdb_train_texts, imdb_test_texts, imdb_train_labels, imdb_test_labels = get_imdb_dataset()"
      ]
    },
    {
      "cell_type": "markdown",
      "metadata": {
        "id": "BVLrfAz2Xgsq"
      },
      "source": [
        "## Load Movie Review Dataset"
      ]
    },
    {
      "cell_type": "code",
      "execution_count": 4,
      "metadata": {
        "id": "jy76KI1nXfuC"
      },
      "outputs": [],
      "source": [
        "!pip install kaggle\n",
        "!mkdir ~/.kaggle/ \n",
        "!cp kaggle.json ~/.kaggle/ # The kaggle.json is a file download from kaggle with your API codes (each has one to login)\n",
        "!chmod 600 ~/.kaggle/kaggle.json \n",
        "!kaggle datasets download -d nltkdata/movie-review\n",
        "!unzip /content/movie-review.zip -d /content/"
      ]
    },
    {
      "cell_type": "code",
      "execution_count": 34,
      "metadata": {
        "id": "mKNliRw2X00g"
      },
      "outputs": [],
      "source": [
        "def get_movie_review_dataset():\n",
        "    movie_review_filenames_neg = sorted(\n",
        "        glob(op.join(\".\", \"movie_reviews\", \"movie_reviews\", \"neg\", \"*.txt\"))\n",
        "    )\n",
        "    movie_review_filenames_pos = sorted(\n",
        "        glob(op.join(\".\", \"movie_reviews\", \"movie_reviews\", \"pos\", \"*.txt\"))\n",
        "    )\n",
        "\n",
        "    # Each files contains a review that consists in one line of text: we put this string in two lists, that we concatenate\n",
        "    movie_review_texts_neg = [\n",
        "        open(f, encoding=\"ascii\").read() for f in movie_review_filenames_neg\n",
        "    ]\n",
        "    movie_review_texts_pos = [\n",
        "        open(f, encoding=\"utf8\").read() for f in movie_review_filenames_pos\n",
        "    ]\n",
        "    movie_review_texts = movie_review_texts_neg + movie_review_texts_pos\n",
        "    movie_review_texts = list(map(lambda x: x.replace(\"\\n\", \"\"), movie_review_texts))\n",
        "\n",
        "    # The first half of the elements of the list are string of negative reviews, and the second half positive ones\n",
        "    # We create the labels, as an array of [1,len(texts)], filled with 1, and change the first half to 0\n",
        "    movie_review_labels = np.ones(len(movie_review_texts), dtype=int)\n",
        "    movie_review_labels[: len(movie_review_texts_neg)] = 0.0\n",
        "\n",
        "    train_texts, test_texts, train_labels, test_labels = train_test_split(\n",
        "        movie_review_texts, movie_review_labels, test_size=0.2\n",
        "    )\n",
        "\n",
        "    return train_texts, test_texts, train_labels, test_labels"
      ]
    },
    {
      "cell_type": "code",
      "execution_count": 35,
      "metadata": {
        "id": "ORu1TSlqYH6y"
      },
      "outputs": [],
      "source": [
        "movie_review_train_texts, movie_review_test_texts, movie_review_train_labels, movie_review_test_labels = get_movie_review_dataset()"
      ]
    },
    {
      "cell_type": "markdown",
      "metadata": {
        "id": "OlK5ToShYgMa"
      },
      "source": [
        "# Prelogits extraction"
      ]
    },
    {
      "cell_type": "markdown",
      "metadata": {
        "id": "N52E818oZHin"
      },
      "source": [
        "## Tokenize data"
      ]
    },
    {
      "cell_type": "code",
      "execution_count": 36,
      "metadata": {
        "id": "ipWZTJ3EsgNK"
      },
      "outputs": [],
      "source": [
        "!pip install transformers"
      ]
    },
    {
      "cell_type": "code",
      "execution_count": 37,
      "metadata": {
        "id": "qDTEDf9esIap"
      },
      "outputs": [],
      "source": [
        "import transformers\n",
        "import keras\n",
        "from transformers import BertTokenizer, BertModel\n",
        "import torch"
      ]
    },
    {
      "cell_type": "code",
      "execution_count": 38,
      "metadata": {
        "id": "JUDj4HW3ZUzp"
      },
      "outputs": [],
      "source": [
        "# Check if a GPU is available\n",
        "if torch.cuda.is_available():\n",
        "    device = torch.device('cuda')\n",
        "else:\n",
        "    device = torch.device('cpu')"
      ]
    },
    {
      "cell_type": "code",
      "execution_count": 39,
      "metadata": {
        "id": "WCgs6LSSZN76"
      },
      "outputs": [],
      "source": [
        "def tokenize_texts(tokenizer, texts, length_texts=None):\n",
        "    if not length_texts:\n",
        "        length_texts = len(texts)\n",
        "    else:\n",
        "        length_texts = min(len(texts), length_texts)\n",
        "    # Tokenize the input sentences\n",
        "    encoded = tokenizer.batch_encode_plus(\n",
        "        texts[:length_texts],\n",
        "        add_special_tokens=True,\n",
        "        # max_length=512,\n",
        "        padding=\"max_length\",\n",
        "        truncation=True,\n",
        "        return_attention_mask=True,\n",
        "        return_tensors=\"pt\",\n",
        "    )\n",
        "\n",
        "    # Get the input IDs, attention masks, and token type IDs\n",
        "    input_ids = encoded[\"input_ids\"].to(device)\n",
        "    attention_masks = encoded[\"attention_mask\"].to(device)\n",
        "    token_type_ids = encoded[\"token_type_ids\"].to(device)\n",
        "\n",
        "    return input_ids, attention_masks, token_type_ids"
      ]
    },
    {
      "cell_type": "code",
      "execution_count": 40,
      "metadata": {
        "id": "uNyFIm4MaLlP"
      },
      "outputs": [],
      "source": [
        "tokenizer = BertTokenizer.from_pretrained('bert-base-uncased')"
      ]
    },
    {
      "cell_type": "code",
      "execution_count": 41,
      "metadata": {
        "id": "p01bnGDf0X7U"
      },
      "outputs": [],
      "source": [
        "# Get tokens for imdb dataset\n",
        "imdb_input_ids_train, imdb_attention_masks_train, imdb_token_type_ids_train = tokenize_texts(tokenizer, imdb_train_texts, length_texts=200)\n",
        "imdb_input_ids_test, imdb_attention_masks_test, imdb_token_type_ids_test = tokenize_texts(tokenizer, imdb_test_texts, length_texts=50)\n",
        "\n",
        "# Get tokens for movie review dataset\n",
        "movie_review_input_ids_train, movie_review_attention_masks_train, movie_review_token_type_ids_train = tokenize_texts(tokenizer, movie_review_train_texts, length_texts=20)\n",
        "movie_review_input_ids_test, movie_review_attention_masks_test, movie_review_token_type_ids_test = tokenize_texts(tokenizer, movie_review_test_texts, length_texts=50)"
      ]
    },
    {
      "cell_type": "code",
      "execution_count": 42,
      "metadata": {
        "colab": {
          "base_uri": "https://localhost:8080/"
        },
        "id": "oDJYRec5dCjE",
        "outputId": "09982b13-c031-4243-9e80-af0edd4f6864"
      },
      "outputs": [
        {
          "name": "stdout",
          "output_type": "stream",
          "text": [
            "torch.Size([200, 512]) torch.Size([50, 512])\n",
            "torch.Size([20, 512]) torch.Size([50, 512])\n"
          ]
        }
      ],
      "source": [
        "print(imdb_input_ids_train.shape, imdb_input_ids_test.shape)\n",
        "print(movie_review_input_ids_train.shape, movie_review_input_ids_test.shape)"
      ]
    },
    {
      "cell_type": "markdown",
      "metadata": {
        "id": "ojm1MKOwawpn"
      },
      "source": [
        "## Get Prelogits"
      ]
    },
    {
      "cell_type": "code",
      "execution_count": 43,
      "metadata": {
        "colab": {
          "base_uri": "https://localhost:8080/"
        },
        "id": "bE5VZuxC1ySx",
        "outputId": "c64fb745-22bd-4509-80c6-df77545ee1c7"
      },
      "outputs": [
        {
          "name": "stderr",
          "output_type": "stream",
          "text": [
            "Some weights of the model checkpoint at bert-base-uncased were not used when initializing BertModel: ['cls.predictions.transform.dense.weight', 'cls.seq_relationship.weight', 'cls.seq_relationship.bias', 'cls.predictions.decoder.weight', 'cls.predictions.transform.LayerNorm.weight', 'cls.predictions.transform.dense.bias', 'cls.predictions.bias', 'cls.predictions.transform.LayerNorm.bias']\n",
            "- This IS expected if you are initializing BertModel from the checkpoint of a model trained on another task or with another architecture (e.g. initializing a BertForSequenceClassification model from a BertForPreTraining model).\n",
            "- This IS NOT expected if you are initializing BertModel from the checkpoint of a model that you expect to be exactly identical (initializing a BertForSequenceClassification model from a BertForSequenceClassification model).\n"
          ]
        }
      ],
      "source": [
        "model = BertModel.from_pretrained('bert-base-uncased').to(device)"
      ]
    },
    {
      "cell_type": "code",
      "execution_count": 44,
      "metadata": {
        "id": "O_7CPWOEzPXt"
      },
      "outputs": [],
      "source": [
        "#model"
      ]
    },
    {
      "cell_type": "code",
      "execution_count": 45,
      "metadata": {
        "id": "LhVENpxda3y3"
      },
      "outputs": [],
      "source": [
        "def get_prelogits(model, input_ids, attention_masks, token_type_ids):\n",
        "    # Get the prelogits of the train dataset\n",
        "    with torch.no_grad():\n",
        "        outputs = model(input_ids, attention_masks, token_type_ids)\n",
        "        prelogits = outputs[1].cpu().numpy()\n",
        "    \n",
        "    return prelogits"
      ]
    },
    {
      "cell_type": "code",
      "execution_count": 46,
      "metadata": {
        "id": "af4EXLPebJk5"
      },
      "outputs": [],
      "source": [
        "# Get prelogits for imdb\n",
        "imdb_prelogits_train = get_prelogits(model, imdb_input_ids_train, imdb_attention_masks_train, imdb_token_type_ids_train)\n",
        "imdb_prelogits_test = get_prelogits(model, imdb_input_ids_test, imdb_attention_masks_test, imdb_token_type_ids_test)"
      ]
    },
    {
      "cell_type": "code",
      "execution_count": 47,
      "metadata": {
        "id": "TX8ob-N8bkgc"
      },
      "outputs": [],
      "source": [
        "# Get prelogits for movie review\n",
        "movie_review_prelogits_train = get_prelogits(model, movie_review_input_ids_train, movie_review_attention_masks_train, movie_review_token_type_ids_train)\n",
        "movie_review_prelogits_test = get_prelogits(model, movie_review_input_ids_test, movie_review_attention_masks_test, movie_review_token_type_ids_test)"
      ]
    },
    {
      "cell_type": "markdown",
      "metadata": {
        "id": "Enj3edrWh0_j"
      },
      "source": [
        "# Computing OOD"
      ]
    },
    {
      "cell_type": "code",
      "execution_count": 48,
      "metadata": {
        "id": "aXtONuoQh2tt"
      },
      "outputs": [],
      "source": [
        "def np_softmax(zs):\n",
        "  exps = np.exp(zs-np.max(zs))\n",
        "  return exps/np.sum(exps,axis=-1,keepdims=True)"
      ]
    },
    {
      "cell_type": "markdown",
      "metadata": {
        "id": "TBa5MH8FmV9F"
      },
      "source": [
        "## Standard Mahalanobis"
      ]
    },
    {
      "cell_type": "code",
      "execution_count": 49,
      "metadata": {
        "id": "Ci8VQqXvUG6V"
      },
      "outputs": [],
      "source": [
        "from sklearn.metrics import roc_auc_score\n",
        "\n",
        "def maha_distance(xs,cov_inv_in,mean_in,norm_type=None):\n",
        "  diffs = xs - mean_in.reshape([1,-1])\n",
        "\n",
        "  second_powers = np.matmul(diffs,cov_inv_in)*diffs\n",
        "\n",
        "  if norm_type in [None,\"L2\"]:\n",
        "    return np.sum(second_powers,axis=1)\n",
        "  elif norm_type in [\"L1\"]:\n",
        "    return np.sum(np.sqrt(np.abs(second_powers)),axis=1)\n",
        "  elif norm_type in [\"Linfty\"]:\n",
        "    return np.max(second_powers,axis=1)\n",
        "\n",
        "def get_scores(\n",
        "    indist_train_embeds_in,\n",
        "    indist_train_labels_in,\n",
        "    indist_test_embeds_in,\n",
        "    outdist_test_embeds_in,\n",
        "    subtract_mean = True,\n",
        "    normalize_to_unity = True,\n",
        "    subtract_train_distance = True,\n",
        "    indist_classes = 100,\n",
        "    norm_name = \"L2\",\n",
        "    ):\n",
        "  \n",
        "  # storing the replication results\n",
        "  maha_intermediate_dict = dict()\n",
        "  \n",
        "  description = \"\"\n",
        "  \n",
        "  all_train_mean = np.mean(indist_train_embeds_in,axis=0,keepdims=True)\n",
        "\n",
        "  indist_train_embeds_in_touse = indist_train_embeds_in\n",
        "  indist_test_embeds_in_touse = indist_test_embeds_in\n",
        "  outdist_test_embeds_in_touse = outdist_test_embeds_in\n",
        "\n",
        "  if subtract_mean:\n",
        "    indist_train_embeds_in_touse -= all_train_mean\n",
        "    indist_test_embeds_in_touse -= all_train_mean\n",
        "    outdist_test_embeds_in_touse -= all_train_mean\n",
        "    description = description+\" subtract mean,\"\n",
        "\n",
        "  if normalize_to_unity:\n",
        "    indist_train_embeds_in_touse = indist_train_embeds_in_touse / np.linalg.norm(indist_train_embeds_in_touse,axis=1,keepdims=True)\n",
        "    indist_test_embeds_in_touse = indist_test_embeds_in_touse / np.linalg.norm(indist_test_embeds_in_touse,axis=1,keepdims=True)\n",
        "    outdist_test_embeds_in_touse = outdist_test_embeds_in_touse / np.linalg.norm(outdist_test_embeds_in_touse,axis=1,keepdims=True)\n",
        "    description = description+\" unit norm,\"\n",
        "\n",
        "  #full train single fit\n",
        "  mean = np.mean(indist_train_embeds_in_touse,axis=0)\n",
        "  cov = np.cov((indist_train_embeds_in_touse-(mean.reshape([1,-1]))).T)\n",
        "\n",
        "  eps = 1e-8\n",
        "  cov_inv = np.linalg.inv(cov)\n",
        "\n",
        "  #getting per class means and covariances\n",
        "  class_means = []\n",
        "  class_cov_invs = []\n",
        "  class_covs = []\n",
        "  for c in range(indist_classes):\n",
        "\n",
        "    mean_now = np.mean(indist_train_embeds_in_touse[indist_train_labels_in == c],axis=0)\n",
        "\n",
        "    cov_now = np.cov((indist_train_embeds_in_touse[indist_train_labels_in == c]-(mean_now.reshape([1,-1]))).T)\n",
        "    class_covs.append(cov_now)\n",
        "    # print(c)\n",
        "\n",
        "    eps = 1e-8\n",
        "    cov_inv_now = np.linalg.inv(cov_now)\n",
        "\n",
        "    class_cov_invs.append(cov_inv_now)\n",
        "    class_means.append(mean_now)\n",
        "\n",
        "  #the average covariance for class specific\n",
        "  class_cov_invs = [np.linalg.inv(np.mean(np.stack(class_covs,axis=0),axis=0))]*len(class_covs)\n",
        "\n",
        "  maha_intermediate_dict[\"class_cov_invs\"] = class_cov_invs\n",
        "  maha_intermediate_dict[\"class_means\"] = class_means\n",
        "  maha_intermediate_dict[\"cov_inv\"] = cov_inv\n",
        "  maha_intermediate_dict[\"mean\"] = mean\n",
        "\n",
        "  out_totrain = maha_distance(outdist_test_embeds_in_touse,cov_inv,mean,norm_name)\n",
        "  in_totrain = maha_distance(indist_test_embeds_in_touse,cov_inv,mean,norm_name)\n",
        "\n",
        "  out_totrainclasses = [maha_distance(outdist_test_embeds_in_touse,class_cov_invs[c],class_means[c],norm_name) for c in range(indist_classes)]\n",
        "  in_totrainclasses = [maha_distance(indist_test_embeds_in_touse,class_cov_invs[c],class_means[c],norm_name) for c in range(indist_classes)]\n",
        "\n",
        "  out_scores = np.min(np.stack(out_totrainclasses,axis=0),axis=0)\n",
        "  in_scores = np.min(np.stack(in_totrainclasses,axis=0),axis=0)\n",
        "\n",
        "  if subtract_train_distance:\n",
        "    out_scores = out_scores - out_totrain\n",
        "    in_scores = in_scores - in_totrain\n",
        "\n",
        "\n",
        "  onehots = np.array([1]*len(out_scores) + [0]*len(in_scores))\n",
        "  scores = np.concatenate([out_scores,in_scores],axis=0)\n",
        "\n",
        "  return onehots, scores, description, maha_intermediate_dict\n"
      ]
    },
    {
      "cell_type": "code",
      "execution_count": 50,
      "metadata": {
        "id": "aZ0YvSQgTO7_"
      },
      "outputs": [],
      "source": [
        "from sklearn.metrics import roc_auc_score\n",
        "\n",
        "def get_auroc(onehots,scores,make_plot = True,add_to_title=None,swap_classes=False):\n",
        "\n",
        "  auroc = roc_auc_score(onehots, scores)\n",
        "\n",
        "  to_replot_dict = dict()\n",
        "\n",
        "  if swap_classes == False:\n",
        "    out_scores,in_scores = scores[onehots==0], scores[onehots==1] \n",
        "  else:\n",
        "    out_scores,in_scores = scores[onehots==1], scores[onehots==0] \n",
        "\n",
        "  if make_plot:\n",
        "    plt.figure(figsize = (5.5,3),dpi=100)\n",
        "\n",
        "    if add_to_title is not None:\n",
        "      plt.title(add_to_title+\" AUROC=\"+str(float(auroc*100))[:6]+\"%\",fontsize=14)\n",
        "    else:\n",
        "      plt.title(\" AUROC=\"+str(float(auroc*100))[:6]+\"%\",fontsize=14)\n",
        "\n",
        "\n",
        "  vals,bins = np.histogram(out_scores,bins = 51)\n",
        "  bin_centers = (bins[1:]+bins[:-1])/2.0\n",
        "\n",
        "  if make_plot:\n",
        "    plt.plot(bin_centers,vals,linewidth=4,color=\"navy\",marker=\"\",label=\"in test\")\n",
        "    plt.fill_between(bin_centers,vals,[0]*len(vals),color=\"navy\",alpha=0.3)\n",
        "\n",
        "  to_replot_dict[\"out_bin_centers\"] = bin_centers\n",
        "  to_replot_dict[\"out_vals\"] = vals\n",
        "\n",
        "  vals,bins = np.histogram(in_scores,bins = 51)\n",
        "  bin_centers = (bins[1:]+bins[:-1])/2.0\n",
        "\n",
        "  if make_plot:\n",
        "    plt.plot(bin_centers,vals,linewidth=4,color=\"crimson\",marker=\"\",label=\"out test\")\n",
        "    plt.fill_between(bin_centers,vals,[0]*len(vals),color=\"crimson\",alpha=0.3)\n",
        "\n",
        "  to_replot_dict[\"in_bin_centers\"] = bin_centers\n",
        "  to_replot_dict[\"in_vals\"] = vals\n",
        "\n",
        "  if make_plot:\n",
        "    plt.xlabel(\"Score\",fontsize=14)\n",
        "    plt.ylabel(\"Count\",fontsize=14)\n",
        "\n",
        "    plt.xticks(fontsize=14)\n",
        "    plt.yticks(fontsize=14)\n",
        "\n",
        "    plt.ylim([0,None])\n",
        "\n",
        "    plt.legend(fontsize = 14)\n",
        "\n",
        "    plt.tight_layout()\n",
        "    plt.show()\n",
        "\n",
        "  return auroc,to_replot_dict"
      ]
    },
    {
      "cell_type": "code",
      "execution_count": 51,
      "metadata": {
        "id": "tQboIxqCh_4x"
      },
      "outputs": [],
      "source": [
        "onehots, scores, description, maha_intermediate_dict = get_scores(\n",
        "        np.array(imdb_prelogits_train)[:,:],\n",
        "        imdb_train_labels[:200],\n",
        "        np.array(imdb_prelogits_test)[:,:],\n",
        "        np.array(movie_review_prelogits_test)[:,:],\n",
        "        indist_classes=2,\n",
        "        subtract_mean = False,\n",
        "        normalize_to_unity = False,\n",
        "        subtract_train_distance = False,\n",
        "    )"
      ]
    },
    {
      "cell_type": "code",
      "execution_count": 53,
      "metadata": {
        "id": "_EWeSWbGiC4C"
      },
      "outputs": [],
      "source": [
        "class_means = maha_intermediate_dict[\"class_means\"]\n",
        "class_cov_invs = maha_intermediate_dict[\"class_cov_invs\"]\n",
        "\n",
        "indist_test_embeds = imdb_prelogits_test\n",
        "\n",
        "outdist_test_embeds = movie_review_prelogits_test\n",
        "\n",
        "indist_dists = []\n",
        "for c in range(2):\n",
        "  indist_offset_now = indist_test_embeds - class_means[c].reshape([1,-1])\n",
        "  maha_dists_now = np.sum(np.matmul(indist_offset_now,class_cov_invs[c])*indist_offset_now,axis=1)\n",
        "  indist_dists.append(maha_dists_now)\n",
        "\n",
        "outdist_dists = []\n",
        "for c in range(2):\n",
        "  outdist_offset_now = outdist_test_embeds - class_means[c].reshape([1,-1])\n",
        "  maha_dists_now = np.sum(np.matmul(outdist_offset_now,class_cov_invs[c])*outdist_offset_now,axis=1)\n",
        "  outdist_dists.append(maha_dists_now)"
      ]
    },
    {
      "cell_type": "code",
      "execution_count": 54,
      "metadata": {
        "id": "TBvToA-PkGRa"
      },
      "outputs": [],
      "source": [
        "\n",
        "indist_dists_byclass = np.stack(indist_dists,axis=1)\n",
        "indist_min = np.min(indist_dists_byclass,axis=1)\n",
        "\n",
        "outdist_dists_byclass = np.stack(outdist_dists,axis=1)\n",
        "outdist_min = np.min(outdist_dists_byclass,axis=1)\n",
        "\n",
        "onehots = np.array([1]*len(outdist_min) + [0]*len(indist_min))\n",
        "scores = np.concatenate([outdist_min,indist_min],axis=0)"
      ]
    },
    {
      "cell_type": "code",
      "execution_count": 55,
      "metadata": {
        "colab": {
          "base_uri": "https://localhost:8080/"
        },
        "id": "MBHa0hDmkM3W",
        "outputId": "0e58966d-b2a6-40f6-d07f-f278bcc028d3"
      },
      "outputs": [
        {
          "name": "stdout",
          "output_type": "stream",
          "text": [
            "IMDB score = -764413047750111.6+-3294808014476882.5\n",
            "Movie Review score = 1.5106323727746302e+20+-1.0677890326808653e+21\n"
          ]
        }
      ],
      "source": [
        "print(\"IMDB score = \"+str(np.mean(indist_min))+\"+-\"+str(np.std(indist_min)))\n",
        "print(\"Movie Review score = \"+str(np.mean(outdist_min))+\"+-\"+str(np.std(outdist_min)))"
      ]
    },
    {
      "cell_type": "code",
      "execution_count": 77,
      "metadata": {
        "colab": {
          "base_uri": "https://localhost:8080/",
          "height": 308
        },
        "id": "V8roFdBWkRPU",
        "outputId": "218b4a07-d7e2-4802-d342-9a94d78f40d0"
      },
      "outputs": [
        {
          "data": {
            "image/png": "[encoded data removed]",
            "text/plain": [
              "<Figure size 550x300 with 1 Axes>"
            ]
          },
          "metadata": {
            "needs_background": "light"
          },
          "output_type": "display_data"
        }
      ],
      "source": [
        "auroc, to_replot_dict = get_auroc(\n",
        "    onehots, \n",
        "    scores, \n",
        "    make_plot=True,\n",
        "    add_to_title=\"BERT on IMDB vs Movie Review\\nStandard Mahalanobis\"\n",
        "    )"
      ]
    },
    {
      "cell_type": "code",
      "execution_count": 59,
      "metadata": {
        "colab": {
          "base_uri": "https://localhost:8080/"
        },
        "id": "ijcb_654kVKj",
        "outputId": "9a5ca5ab-86fd-4853-bc9a-bd7203f8358c"
      },
      "outputs": [
        {
          "data": {
            "text/plain": [
              "0.4048"
            ]
          },
          "execution_count": 59,
          "metadata": {},
          "output_type": "execute_result"
        }
      ],
      "source": [
        "auroc"
      ]
    },
    {
      "cell_type": "markdown",
      "metadata": {
        "id": "0Lh9Rmc-kwQP"
      },
      "source": [
        "### Relative Mahalanobis"
      ]
    },
    {
      "cell_type": "code",
      "execution_count": 61,
      "metadata": {
        "id": "ecXjiOMikjBF"
      },
      "outputs": [],
      "source": [
        "train_mean = maha_intermediate_dict[\"mean\"]\n",
        "train_cov_inv = maha_intermediate_dict[\"cov_inv\"]"
      ]
    },
    {
      "cell_type": "code",
      "execution_count": 69,
      "metadata": {
        "id": "Ru0Pgnb5kuO3"
      },
      "outputs": [],
      "source": [
        "onehots, scores, description, maha_intermediate_dict = get_scores(\n",
        "        np.array(imdb_prelogits_train)[:,:],\n",
        "        imdb_train_labels[:200],\n",
        "        np.array(imdb_prelogits_test)[:,:],\n",
        "        np.array(movie_review_prelogits_test)[:,:],\n",
        "        indist_classes=2,\n",
        "        subtract_mean = False,\n",
        "        normalize_to_unity = False,\n",
        "        subtract_train_distance = False,\n",
        "    )"
      ]
    },
    {
      "cell_type": "code",
      "execution_count": 70,
      "metadata": {
        "id": "1TLc3OX8lrW3"
      },
      "outputs": [],
      "source": [
        "indist_dists_byclass = np.stack(indist_dists,axis=1)\n",
        "indist_min = np.min(indist_dists_byclass,axis=1)\n",
        "\n",
        "outdist_dists_byclass = np.stack(outdist_dists,axis=1)\n",
        "outdist_min = np.min(outdist_dists_byclass,axis=1)\n",
        "\n",
        "onehots = np.array([1]*len(outdist_min) + [0]*len(indist_min))\n",
        "scores = np.concatenate([outdist_min,indist_min],axis=0)"
      ]
    },
    {
      "cell_type": "code",
      "execution_count": 73,
      "metadata": {
        "id": "wFEufS9ulEOw"
      },
      "outputs": [],
      "source": [
        "indist_dists_byclass = np.stack(indist_dists,axis=1)\n",
        "indist_min = np.min(indist_dists_byclass,axis=1)\n",
        "\n",
        "outdist_dists_byclass = np.stack(outdist_dists,axis=1)\n",
        "outdist_min = np.min(outdist_dists_byclass,axis=1)\n",
        "\n",
        "prelogits = indist_test_embeds\n",
        "offset_now = prelogits - np.array(train_mean).reshape([1,-1]).astype(np.float64)\n",
        "offset_now = offset_now.astype(np.float64)\n",
        "train_maha_dist = np.einsum(\"ai,ij->aj\",offset_now,np.array(train_cov_inv).astype(np.float64))\n",
        "train_maha_dist = np.einsum(\"aj,aj->a\",train_maha_dist,offset_now)\n",
        "indist_train_dist = train_maha_dist\n",
        "\n",
        "prelogits = outdist_test_embeds\n",
        "offset_now = prelogits - np.array(train_mean).reshape([1,-1]).astype(np.float64)\n",
        "offset_now = offset_now.astype(np.float64)\n",
        "train_maha_dist = np.einsum(\"ai,ij->aj\",offset_now,np.array(train_cov_inv).astype(np.float64))\n",
        "train_maha_dist = np.einsum(\"aj,aj->a\",train_maha_dist,offset_now)\n",
        "outdist_train_dist = train_maha_dist\n",
        "\n",
        "outdist_scores = outdist_min-outdist_train_dist\n",
        "indist_scores = indist_min-indist_train_dist\n",
        "\n",
        "onehots = np.array([1]*len(outdist_min) + [0]*len(indist_min))\n",
        "scores = np.concatenate([outdist_scores,indist_scores],axis=0)"
      ]
    },
    {
      "cell_type": "code",
      "execution_count": 74,
      "metadata": {
        "colab": {
          "base_uri": "https://localhost:8080/"
        },
        "id": "FZZc7mg4lVoF",
        "outputId": "54e92ea9-294f-4675-9d18-fc3cf2480753"
      },
      "outputs": [
        {
          "name": "stdout",
          "output_type": "stream",
          "text": [
            "IMDB score = 3324966634415419.0+-1.113575324784917e+16\n",
            "Movie Review score = -1.1998553358851016e+21+-8.387621748035837e+21\n"
          ]
        }
      ],
      "source": [
        "print(\"IMDB score = \"+str(np.mean(indist_scores))+\"+-\"+str(np.std(indist_scores)))\n",
        "print(\"Movie Review score = \"+str(np.mean(outdist_scores))+\"+-\"+str(np.std(outdist_scores)))"
      ]
    },
    {
      "cell_type": "code",
      "execution_count": 76,
      "metadata": {
        "colab": {
          "base_uri": "https://localhost:8080/",
          "height": 308
        },
        "id": "GJKisvC8l01L",
        "outputId": "e9385c6f-1ecc-4f07-f8d6-3e2ad322ab22"
      },
      "outputs": [
        {
          "data": {
            "image/png": "[encoded data removed]",
            "text/plain": [
              "<Figure size 550x300 with 1 Axes>"
            ]
          },
          "metadata": {
            "needs_background": "light"
          },
          "output_type": "display_data"
        }
      ],
      "source": [
        "auroc, to_replot_dict = get_auroc(\n",
        "    onehots, \n",
        "    scores, \n",
        "    make_plot=True,\n",
        "    add_to_title=\"BERT on IMDB vs Movie Review\\nRelative Mahalanobis\"\n",
        "    )\n",
        "     "
      ]
    },
    {
      "cell_type": "code",
      "execution_count": null,
      "metadata": {
        "id": "Znlol0ifl4pi"
      },
      "outputs": [],
      "source": []
    }
  ],
  "metadata": {
    "accelerator": "GPU",
    "colab": {
      "provenance": []
    },
    "gpuClass": "standard",
    "kernelspec": {
      "display_name": "Python 3.10.9",
      "language": "python",
      "name": "python3"
    },
    "language_info": {
      "codemirror_mode": {
        "name": "ipython",
        "version": 3
      },
      "file_extension": ".py",
      "mimetype": "text/x-python",
      "name": "python",
      "nbconvert_exporter": "python",
      "pygments_lexer": "ipython3",
      "version": "3.10.9"
    },
    "orig_nbformat": 4,
    "vscode": {
      "interpreter": {
        "hash": "e91f408a413f703ba5246387f7879b64ff82cdbe1e6e5e005ccd198f424ee20e"
      }
    }
  },
  "nbformat": 4,
  "nbformat_minor": 0
}
