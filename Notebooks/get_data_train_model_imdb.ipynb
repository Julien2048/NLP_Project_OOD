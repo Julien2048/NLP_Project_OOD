{
  "cells": [
    {
      "cell_type": "markdown",
      "metadata": {
        "id": "sL6cDFw-0u-d"
      },
      "source": [
        "# Demonstration - Get Data - Train Model - IMDB"
      ]
    },
    {
      "cell_type": "code",
      "execution_count": 1,
      "metadata": {
        "id": "jEAyqsXNsIal"
      },
      "outputs": [],
      "source": [
        "import numpy as np"
      ]
    },
    {
      "cell_type": "code",
      "execution_count": 2,
      "metadata": {
        "colab": {
          "base_uri": "https://localhost:8080/"
        },
        "id": "BNGXPP3i0u-g",
        "outputId": "6a051b37-0d77-458e-9502-c6976947ebdc"
      },
      "outputs": [
        {
          "name": "stdout",
          "output_type": "stream",
          "text": [
            "Mounted at /content/gdrive\n"
          ]
        }
      ],
      "source": [
        "from google.colab import drive\n",
        "drive.mount('/content/gdrive')"
      ]
    },
    {
      "cell_type": "code",
      "execution_count": 3,
      "metadata": {
        "colab": {
          "base_uri": "https://localhost:8080/"
        },
        "id": "ZcKfXT4sAph9",
        "outputId": "0779efb6-0a40-405c-e3cb-76190832564a"
      },
      "outputs": [
        {
          "name": "stdout",
          "output_type": "stream",
          "text": [
            "Installing collected packages: tokenizers, xxhash, dill, responses, multiprocess, huggingface-hub, transformers, datasets\n",
            "Successfully installed datasets-2.10.1 dill-0.3.6 huggingface-hub-0.13.0 multiprocess-0.70.14 responses-0.18.0 tokenizers-0.13.2 transformers-4.26.1 xxhash-3.2.0\n"
          ]
        }
      ],
      "source": [
        "!pip install git+https://github.com/Julien2048/NLP_Project_OOD.git\n",
        "!git clone https://github.com/Julien2048/NLP_Project_OOD\n",
        "!pip install -r NLP_Project_OOD/requirements.txt"
      ]
    },
    {
      "cell_type": "code",
      "execution_count": 4,
      "metadata": {
        "colab": {
          "base_uri": "https://localhost:8080/"
        },
        "id": "sClcQkd70u-h",
        "outputId": "541fee33-3e8e-4678-e5c6-9d32b8814ad7"
      },
      "outputs": [
        {
          "name": "stdout",
          "output_type": "stream",
          "text": [
            "/content/gdrive/MyDrive/NLP_Project_OOD/distilbert\n",
            "/content/gdrive/MyDrive/NLP_Project_OOD\n",
            "/content/gdrive/MyDrive/NLP_Project_OOD/transformers\n",
            "/content/gdrive/MyDrive/NLP_Project_OOD\n",
            "/content/gdrive/MyDrive\n",
            "/content/gdrive\n",
            "/content\n"
          ]
        }
      ],
      "source": [
        "%cd gdrive/MyDrive/NLP_Project_OOD/distilbert\n",
        "!rm /usr/local/lib/python3.9/dist-packages/transformers/models/distilbert/modeling_distilbert.py\n",
        "!cp modeling_distilbert.py /usr/local/lib/python3.9/dist-packages/transformers/models/distilbert/\n",
        "\n",
        "!rm /usr/local/lib/python3.9/dist-packages/transformers/models/distilbert/__init__.py\n",
        "!cp __init__.py /usr/local/lib/python3.9/dist-packages/transformers/models/distilbert/\n",
        "%cd ..\n",
        "\n",
        "%cd transformers\n",
        "!rm /usr/local/lib/python3.9/dist-packages/transformers/__init__.py\n",
        "!cp __init__.py /usr/local/lib/python3.9/dist-packages/transformers/\n",
        "%cd ..\n",
        "%cd ..\n",
        "%cd ..\n",
        "%cd .."
      ]
    },
    {
      "cell_type": "code",
      "execution_count": 5,
      "metadata": {
        "id": "G7D-NTbVeXGo"
      },
      "outputs": [],
      "source": [
        "!mkdir ~/.kaggle/ \n",
        "!cp kaggle.json ~/.kaggle/ # The kaggle.json is a file download from kaggle with your API codes (each has one to login)\n",
        "!chmod 600 ~/.kaggle/kaggle.json \n",
        "!kaggle datasets download -d nltkdata/movie-review\n",
        "!unzip /content/movie-review.zip -d /content/"
      ]
    },
    {
      "cell_type": "code",
      "execution_count": 6,
      "metadata": {
        "id": "OI-gUt4aemtk"
      },
      "outputs": [],
      "source": [
        "gdown.download(\"http://ai.stanford.edu/~amaas/data/sentiment/aclImdb_v1.tar.gz\", output=\"aclImdb_v1.tar.gz\", quiet=False)\n",
        "!tar xzf /content/aclImdb_v1.tar.gz"
      ]
    },
    {
      "cell_type": "code",
      "execution_count": 5,
      "metadata": {
        "id": "IVqIga2-ZdFx"
      },
      "outputs": [],
      "source": [
        "import torch"
      ]
    },
    {
      "cell_type": "code",
      "execution_count": 6,
      "metadata": {
        "id": "5A2PLYIEOjoO"
      },
      "outputs": [],
      "source": [
        "from nlp_project.data_loader import IMDBDataset, MovieReviewDataset, MNLIDataset, SST2Dataset, RTEDataset, CreateDataset\n",
        "from nlp_project.OOD_detector import Mahalanobis\n",
        "from nlp_project.metrics import ResultsOOD\n",
        "from nlp_project.BERT_adaptation import TokenizeData, DistilBertClassifier"
      ]
    },
    {
      "cell_type": "markdown",
      "metadata": {
        "id": "y9Dq0_4rW3dY"
      },
      "source": [
        "## Load Datasets"
      ]
    },
    {
      "cell_type": "markdown",
      "metadata": {
        "id": "Pzhb1DaGW6AK"
      },
      "source": [
        "### Load IMDB Dataset"
      ]
    },
    {
      "cell_type": "code",
      "execution_count": null,
      "metadata": {
        "id": "vQ1lgBVUEaUV"
      },
      "outputs": [],
      "source": [
        "get_imdb = IMDBDataset()\n",
        "imdb_train_texts, imdb_test_texts, imdb_train_labels, imdb_test_labels = get_imdb.get_dataset()\n",
        "get_imdb.save_labels()\n",
        "get_imdb.save_texts()"
      ]
    },
    {
      "cell_type": "markdown",
      "metadata": {
        "id": "BVLrfAz2Xgsq"
      },
      "source": [
        "### Load Movie Review Dataset"
      ]
    },
    {
      "cell_type": "code",
      "execution_count": null,
      "metadata": {
        "id": "mKNliRw2X00g"
      },
      "outputs": [],
      "source": [
        "get_movie = MovieReviewDataset()\n",
        "movie_review_train_texts, movie_review_test_texts, movie_review_train_labels, movie_review_test_labels = get_movie.get_dataset()\n",
        "get_movie.save_labels()\n",
        "get_movie.save_texts()"
      ]
    },
    {
      "cell_type": "markdown",
      "metadata": {
        "id": "Gtyn_XL8KFay"
      },
      "source": [
        "### Load MNLI Dataset"
      ]
    },
    {
      "cell_type": "code",
      "execution_count": null,
      "metadata": {
        "id": "lozaYZUZLjXR"
      },
      "outputs": [],
      "source": [
        "mnli = MNLIDataset()\n",
        "mnli_test_texts = mnli.get_dataset()\n",
        "mnli.save_texts()"
      ]
    },
    {
      "cell_type": "markdown",
      "metadata": {
        "id": "ngh4e7In0u-l"
      },
      "source": [
        "### Load SST2 Datasets"
      ]
    },
    {
      "cell_type": "code",
      "execution_count": null,
      "metadata": {
        "id": "rlHUkAl60u-l"
      },
      "outputs": [],
      "source": [
        "get_sst2 = SST2Dataset()\n",
        "sst2_train_texts, sst2_test_texts, sst2_train_labels, sst2_test_labels = get_sst2.get_dataset()\n",
        "get_sst2.save_labels()\n",
        "get_sst2.save_texts()"
      ]
    },
    {
      "cell_type": "markdown",
      "metadata": {
        "id": "Mt2Llz0_0u-l"
      },
      "source": [
        "### Load RTE Dataset"
      ]
    },
    {
      "cell_type": "code",
      "execution_count": null,
      "metadata": {
        "id": "ea3QF4Yb0u-m"
      },
      "outputs": [],
      "source": [
        "get_rte = RTEDataset()\n",
        "rte_test_texts = get_rte.get_dataset()\n",
        "get_rte.save_texts()"
      ]
    },
    {
      "cell_type": "markdown",
      "metadata": {
        "id": "OlK5ToShYgMa"
      },
      "source": [
        "## Prelogits extraction"
      ]
    },
    {
      "cell_type": "code",
      "execution_count": 8,
      "metadata": {
        "id": "YXucciu2L_Fk"
      },
      "outputs": [],
      "source": [
        "# Check if a GPU is available\n",
        "if torch.cuda.is_available():\n",
        "    device = torch.device('cuda')\n",
        "else:\n",
        "    device = torch.device('cpu')"
      ]
    },
    {
      "cell_type": "markdown",
      "metadata": {
        "id": "N52E818oZHin"
      },
      "source": [
        "### Tokenize data"
      ]
    },
    {
      "cell_type": "code",
      "execution_count": 9,
      "metadata": {
        "id": "8qPQHDCYLeO8"
      },
      "outputs": [],
      "source": [
        "NB_TEXTS_TRAIN = 1600\n",
        "NB_TEXTS_TEST = 400"
      ]
    },
    {
      "cell_type": "markdown",
      "metadata": {
        "id": "oD_t1C-CRWVD"
      },
      "source": [
        "#### Create tokens"
      ]
    },
    {
      "cell_type": "code",
      "execution_count": null,
      "metadata": {
        "id": "WCgs6LSSZN76"
      },
      "outputs": [],
      "source": [
        "tokenizer = TokenizeData()\n",
        "imdb_input_ids_train, imdb_attention_masks_train = tokenizer(imdb_train_texts, \"imdb\", \"train\", 10000)\n",
        "tokenizer.save_tokens()\n",
        "\n",
        "imdb_input_ids_test, imdb_attention_masks_test = tokenizer(imdb_test_texts, \"imdb\", \"test\", NB_TEXTS_TEST)\n",
        "tokenizer.save_tokens()\n",
        "\n",
        "movie_review_input_ids_test, movie_review_attention_masks_test = tokenizer(movie_review_test_texts, \"movie_review\", \"test\", NB_TEXTS_TEST)\n",
        "tokenizer.save_tokens()\n",
        "\n",
        "mnli_input_ids_test, mnli_attention_masks_test = tokenizer(mnli_test_texts, \"mnli\", \"test\", NB_TEXTS_TEST)\n",
        "tokenizer.save_tokens()\n",
        "\n",
        "sst2_input_ids_test, sst2_attention_masks_test = tokenizer(sst2_test_texts, \"sst2\", \"test\", NB_TEXTS_TEST)\n",
        "tokenizer.save_tokens()\n",
        "\n",
        "rte_input_ids_test, rte_attention_masks_test = tokenizer(rte_test_texts, \"rte\", \"test\", NB_TEXTS_TEST)\n",
        "tokenizer.save_tokens()"
      ]
    },
    {
      "cell_type": "code",
      "execution_count": 11,
      "metadata": {
        "colab": {
          "base_uri": "https://localhost:8080/"
        },
        "id": "oDJYRec5dCjE",
        "outputId": "44be6279-ad9f-46c7-9587-320627199600"
      },
      "outputs": [
        {
          "name": "stdout",
          "output_type": "stream",
          "text": [
            "Shape IMDB Train Dataset:  (10000, 512)\n",
            "Shape IMDB Test Dataset:  (400, 512)\n"
          ]
        }
      ],
      "source": [
        "print(\"Shape IMDB Train Dataset: \", imdb_input_ids_train.shape)\n",
        "print(\"Shape IMDB Test Dataset: \", imdb_input_ids_test.shape)\n",
        "print(\"Shape Movie Review Test Dataset: \", movie_review_input_ids_test.shape)\n",
        "print(\"Shape MNLI Test Dataset: \", movie_review_input_ids_test.shape)\n",
        "print(\"Shape SST2 Test Dataset: \", sst2_input_ids_test.shape)\n",
        "print(\"Shape RTE Test Dataset: \", rte_input_ids_test.shape)"
      ]
    },
    {
      "cell_type": "markdown",
      "metadata": {
        "id": "ojm1MKOwawpn"
      },
      "source": [
        "### Train the model"
      ]
    },
    {
      "cell_type": "code",
      "execution_count": null,
      "metadata": {
        "id": "NN4y-RixCVJ_"
      },
      "outputs": [],
      "source": [
        "# Create the train, validation and test sets\n",
        "imdb_encodings_train = {'input_ids':imdb_input_ids_train,\n",
        "                      'attention_mask':imdb_attention_masks_train}\n",
        "imdb_encodings_test = {'input_ids':imdb_input_ids_test,\n",
        "                      'attention_mask':imdb_attention_masks_test}\n",
        "\n",
        "imdb_train_dataset = CreateDataset(imdb_encodings_train, imdb_train_labels[:10000])\n",
        "imdb_test_dataset = CreateDataset(imdb_encodings_test, imdb_test_labels[:NB_TEXTS_TEST])"
      ]
    },
    {
      "cell_type": "code",
      "execution_count": null,
      "metadata": {
        "id": "V1UgMiQB-yy1"
      },
      "outputs": [],
      "source": [
        "# CONSTANTS\n",
        "BATCH_SIZE = 32\n",
        "WEIGHT_DECAY = 0.01\n",
        "WARMUP_RATIO = 0.06\n",
        "LEARNING_RATE = 1e-5\n",
        "NUM_EPOCHS = 3\n",
        "LOG_STEPS = 100"
      ]
    },
    {
      "cell_type": "markdown",
      "metadata": {
        "id": "GcGbVkImWGcN"
      },
      "source": [
        "#### Train classifier"
      ]
    },
    {
      "cell_type": "code",
      "execution_count": null,
      "metadata": {
        "colab": {
          "base_uri": "https://localhost:8080/",
          "height": 1000,
          "referenced_widgets": [
            "50ee24d45c1945eb86187a820dc4f87b",
            "452d6f355dd4440cb131670c6ff6091e",
            "e91c08efa554484e80ebf471983290c9",
            "aeae7d1e437f4ae8aff0c62f6a8981b6",
            "007360e53ff546cda43ab5f49073f205",
            "8c37f51ec4db404d9edd353e62f68eb6",
            "bb4a192eafde4fd0b2bd195d25255ffd",
            "c125a41bd8324bcba12b62415732f843",
            "635c579e3cd04151a0a41b2a7c7c5f13",
            "47ae5a211dcd40f08b2f6f237f2e07bc",
            "f3865962746d414388cdf3af88589d7f"
          ]
        },
        "id": "axfoAej_V59z",
        "outputId": "04c5d20f-abdd-4685-d520-ba0c342add09"
      },
      "outputs": [
        {
          "data": {
            "application/vnd.jupyter.widget-view+json": {
              "model_id": "50ee24d45c1945eb86187a820dc4f87b",
              "version_major": 2,
              "version_minor": 0
            },
            "text/plain": [
              "Downloading (…)\"pytorch_model.bin\";:   0%|          | 0.00/268M [00:00<?, ?B/s]"
            ]
          },
          "metadata": {},
          "output_type": "display_data"
        },
        {
          "name": "stderr",
          "output_type": "stream",
          "text": [
            "Some weights of the model checkpoint at distilbert-base-uncased were not used when initializing DistilBertForSequenceClassificationPreLogits: ['vocab_layer_norm.weight', 'vocab_projector.weight', 'vocab_transform.bias', 'vocab_transform.weight', 'vocab_projector.bias', 'vocab_layer_norm.bias']\n",
            "- This IS expected if you are initializing DistilBertForSequenceClassificationPreLogits from the checkpoint of a model trained on another task or with another architecture (e.g. initializing a BertForSequenceClassification model from a BertForPreTraining model).\n",
            "- This IS NOT expected if you are initializing DistilBertForSequenceClassificationPreLogits from the checkpoint of a model that you expect to be exactly identical (initializing a BertForSequenceClassification model from a BertForSequenceClassification model).\n",
            "Some weights of DistilBertForSequenceClassificationPreLogits were not initialized from the model checkpoint at distilbert-base-uncased and are newly initialized: ['pre_classifier.weight', 'pre_classifier.bias', 'classifier.bias', 'classifier.weight']\n",
            "You should probably TRAIN this model on a down-stream task to be able to use it for predictions and inference.\n",
            "/usr/local/lib/python3.8/dist-packages/transformers/optimization.py:306: FutureWarning: This implementation of AdamW is deprecated and will be removed in a future version. Use the PyTorch implementation torch.optim.AdamW instead, or set `no_deprecation_warning=True` to disable this warning\n",
            "  warnings.warn(\n",
            "***** Running training *****\n",
            "  Num examples = 10000\n",
            "  Num Epochs = 4\n",
            "  Instantaneous batch size per device = 32\n",
            "  Total train batch size (w. parallel, distributed & accumulation) = 32\n",
            "  Gradient Accumulation steps = 1\n",
            "  Total optimization steps = 1252\n",
            "  Number of trainable parameters = 66955010\n",
            "/usr/local/lib/python3.8/dist-packages/nlp_project/data_loader.py:183: UserWarning: To copy construct from a tensor, it is recommended to use sourceTensor.clone().detach() or sourceTensor.clone().detach().requires_grad_(True), rather than torch.tensor(sourceTensor).\n",
            "  item = {key: torch.tensor(val[idx]) for key, val in self.encodings.items()}\n"
          ]
        },
        {
          "data": {
            "text/html": [
              "\n",
              "    <div>\n",
              "      \n",
              "      <progress value='732' max='1252' style='width:300px; height:20px; vertical-align: middle;'></progress>\n",
              "      [ 732/1252 17:45 < 12:38, 0.69 it/s, Epoch 2.34/4]\n",
              "    </div>\n",
              "    <table border=\"1\" class=\"dataframe\">\n",
              "  <thead>\n",
              " <tr style=\"text-align: left;\">\n",
              "      <th>Step</th>\n",
              "      <th>Training Loss</th>\n",
              "    </tr>\n",
              "  </thead>\n",
              "  <tbody>\n",
              "    <tr>\n",
              "      <td>100</td>\n",
              "      <td>0.636700</td>\n",
              "    </tr>\n",
              "    <tr>\n",
              "      <td>200</td>\n",
              "      <td>0.295200</td>\n",
              "    </tr>\n",
              "    <tr>\n",
              "      <td>300</td>\n",
              "      <td>0.268900</td>\n",
              "    </tr>\n",
              "    <tr>\n",
              "      <td>400</td>\n",
              "      <td>0.219700</td>\n",
              "    </tr>\n",
              "    <tr>\n",
              "      <td>500</td>\n",
              "      <td>0.194200</td>\n",
              "    </tr>\n",
              "    <tr>\n",
              "      <td>600</td>\n",
              "      <td>0.194300</td>\n",
              "    </tr>\n",
              "    <tr>\n",
              "      <td>700</td>\n",
              "      <td>0.163400</td>\n",
              "    </tr>\n",
              "  </tbody>\n",
              "</table><p>"
            ],
            "text/plain": [
              "<IPython.core.display.HTML object>"
            ]
          },
          "metadata": {},
          "output_type": "display_data"
        },
        {
          "name": "stderr",
          "output_type": "stream",
          "text": [
            "Saving model checkpoint to ./results/checkpoint-500\n",
            "Configuration saved in ./results/checkpoint-500/config.json\n",
            "Model weights saved in ./results/checkpoint-500/pytorch_model.bin\n",
            "/usr/local/lib/python3.8/dist-packages/nlp_project/data_loader.py:183: UserWarning: To copy construct from a tensor, it is recommended to use sourceTensor.clone().detach() or sourceTensor.clone().detach().requires_grad_(True), rather than torch.tensor(sourceTensor).\n",
            "  item = {key: torch.tensor(val[idx]) for key, val in self.encodings.items()}\n"
          ]
        },
        {
          "data": {
            "text/html": [
              "\n",
              "    <div>\n",
              "      \n",
              "      <progress value='1252' max='1252' style='width:300px; height:20px; vertical-align: middle;'></progress>\n",
              "      [1252/1252 30:29, Epoch 4/4]\n",
              "    </div>\n",
              "    <table border=\"1\" class=\"dataframe\">\n",
              "  <thead>\n",
              " <tr style=\"text-align: left;\">\n",
              "      <th>Step</th>\n",
              "      <th>Training Loss</th>\n",
              "    </tr>\n",
              "  </thead>\n",
              "  <tbody>\n",
              "    <tr>\n",
              "      <td>100</td>\n",
              "      <td>0.636700</td>\n",
              "    </tr>\n",
              "    <tr>\n",
              "      <td>200</td>\n",
              "      <td>0.295200</td>\n",
              "    </tr>\n",
              "    <tr>\n",
              "      <td>300</td>\n",
              "      <td>0.268900</td>\n",
              "    </tr>\n",
              "    <tr>\n",
              "      <td>400</td>\n",
              "      <td>0.219700</td>\n",
              "    </tr>\n",
              "    <tr>\n",
              "      <td>500</td>\n",
              "      <td>0.194200</td>\n",
              "    </tr>\n",
              "    <tr>\n",
              "      <td>600</td>\n",
              "      <td>0.194300</td>\n",
              "    </tr>\n",
              "    <tr>\n",
              "      <td>700</td>\n",
              "      <td>0.163400</td>\n",
              "    </tr>\n",
              "    <tr>\n",
              "      <td>800</td>\n",
              "      <td>0.143500</td>\n",
              "    </tr>\n",
              "    <tr>\n",
              "      <td>900</td>\n",
              "      <td>0.149700</td>\n",
              "    </tr>\n",
              "    <tr>\n",
              "      <td>1000</td>\n",
              "      <td>0.130600</td>\n",
              "    </tr>\n",
              "    <tr>\n",
              "      <td>1100</td>\n",
              "      <td>0.107800</td>\n",
              "    </tr>\n",
              "    <tr>\n",
              "      <td>1200</td>\n",
              "      <td>0.126800</td>\n",
              "    </tr>\n",
              "  </tbody>\n",
              "</table><p>"
            ],
            "text/plain": [
              "<IPython.core.display.HTML object>"
            ]
          },
          "metadata": {},
          "output_type": "display_data"
        },
        {
          "name": "stderr",
          "output_type": "stream",
          "text": [
            "Saving model checkpoint to ./results/checkpoint-1000\n",
            "Configuration saved in ./results/checkpoint-1000/config.json\n",
            "Model weights saved in ./results/checkpoint-1000/pytorch_model.bin\n",
            "/usr/local/lib/python3.8/dist-packages/nlp_project/data_loader.py:183: UserWarning: To copy construct from a tensor, it is recommended to use sourceTensor.clone().detach() or sourceTensor.clone().detach().requires_grad_(True), rather than torch.tensor(sourceTensor).\n",
            "  item = {key: torch.tensor(val[idx]) for key, val in self.encodings.items()}\n",
            "\n",
            "\n",
            "Training completed. Do not forget to share your model on huggingface.co/models =)\n",
            "\n",
            "\n",
            "Configuration saved in model_trained/distilbert/config.json\n",
            "Model weights saved in model_trained/distilbert/pytorch_model.bin\n"
          ]
        }
      ],
      "source": [
        "model_prelogits = DistilBertClassifier(device=device, prelogits=True, num_epochs=4)\n",
        "model_prelogits.train_model(imdb_train_dataset, imdb_test_dataset)\n",
        "model_prelogits.save_pretrained_model(\"distilbert_prelogits\")"
      ]
    },
    {
      "cell_type": "code",
      "execution_count": null,
      "metadata": {
        "id": "p60-BaI7TTvG"
      },
      "outputs": [],
      "source": [
        "model_hidden_state = DistilBertClassifier(device=device, prelogits=False, num_epochs=4)\n",
        "model_hidden_state.train_model(imdb_train_dataset, imdb_test_dataset)\n",
        "model_hidden_state.save_pretrained_model(\"distilbert_hidden_state\")"
      ]
    },
    {
      "cell_type": "markdown",
      "metadata": {
        "id": "HI1blXn8Dc1K"
      },
      "source": [
        "### Get Logits and Prelogits "
      ]
    },
    {
      "cell_type": "code",
      "execution_count": null,
      "metadata": {
        "id": "zHs306RwX3Rw"
      },
      "outputs": [],
      "source": [
        "imdb_prelogits_train, imdb_logits_train = model_prelogits.get_prelogit_logit(imdb_input_ids_train.to(device), imdb_attention_masks_train.to(device), \"imdb\", \"train\", save=True)\n",
        "imdb_prelogits_test, imdb_logits_test = model_prelogits.get_prelogit_logit(imdb_input_ids_test.to(device), imdb_attention_masks_test.to(device), \"imdb\", \"test\", save=True)\n",
        "\n",
        "movie_review_prelogits_test, movie_review_logits_test = model_prelogits.get_prelogit_logit(movie_review_input_ids_test.to(device), movie_review_attention_masks_test.to(device), \"movie_review\", \"test\", save=True)\n",
        "mnli_prelogits_test, mnli_logits_test = model_prelogits.get_prelogit_logit(mnli_input_ids_test.to(device), mnli_attention_masks_test.to(device), \"mnli\", \"test\", save=True)\n",
        "sst2_prelogits_test, sst2_logits_test = model_prelogits.get_prelogit_logit(sst2_input_ids_test.to(device), sst2_attention_masks_test.to(device), \"sst2\", \"test\", save=True)\n",
        "rte_prelogits_test, rte_logits_test = model_prelogits.get_prelogit_logit(rte_input_ids_test.to(device), rte_attention_masks_test.to(device), \"rte\", \"test\", save=True)"
      ]
    },
    {
      "cell_type": "markdown",
      "metadata": {
        "id": "5Vqele1ZT0N7"
      },
      "source": [
        "### Get Hidden States"
      ]
    },
    {
      "cell_type": "code",
      "execution_count": null,
      "metadata": {
        "id": "Sd8WLGl3T41V"
      },
      "outputs": [],
      "source": [
        "imdb_hidden_state_train = model_hidden_state.get_hidden_layer(imdb_input_ids_train.to(device), imdb_attention_masks_train.to(device), \"imdb\", \"train\", save=True, size_array=50)\n",
        "imdb_hidden_state_test = model_hidden_state.get_hidden_layer(imdb_input_ids_test.to(device), imdb_attention_masks_test.to(device), \"imdb\", \"test\", save=True, size_array=50)\n",
        "\n",
        "movie_review_hidden_state_test = model_hidden_state.get_hidden_layer(movie_review_input_ids_test.to(device), movie_review_attention_masks_test.to(device), \"movie_review\", \"test\", save=True, size_array=50)\n",
        "mnli_hidden_state_test = model_hidden_state.get_hidden_layer(mnli_input_ids_test.to(device), mnli_attention_masks_test.to(device), \"mnli\", \"test\", save=True, size_array=50)\n",
        "sst2_hidden_state_test = model_hidden_state.get_hidden_layer(sst2_input_ids_test.to(device), sst2_attention_masks_test.to(device), \"sst2\", \"test\", save=True, size_array=50)\n",
        "rte_hidden_state_test = model_hidden_state.get_hidden_layer(rte_input_ids_test.to(device), rte_attention_masks_test.to(device), \"rte\", \"test\", save=True, size_array=50)"
      ]
    }
  ],
  "metadata": {
    "colab": {
      "collapsed_sections": [
        "q1_JHWTlNkCJ",
        "VFLBB_aDN7FX",
        "hppboy6aOQGo",
        "ngh4e7In0u-l",
        "Mt2Llz0_0u-l",
        "oD_t1C-CRWVD"
      ],
      "provenance": []
    },
    "gpuClass": "standard",
    "kernelspec": {
      "display_name": "Python 3.9.6 64-bit",
      "language": "python",
      "name": "python3"
    },
    "language_info": {
      "name": "python",
      "version": "3.9.6"
    },
    "orig_nbformat": 4,
    "vscode": {
      "interpreter": {
        "hash": "31f2aee4e71d21fbe5cf8b01ff0e069b9275f58929596ceb00d14d90e3e16cd6"
      }
    },
    "widgets": {
      "application/vnd.jupyter.widget-state+json": {
        "007360e53ff546cda43ab5f49073f205": {
          "model_module": "@jupyter-widgets/base",
          "model_module_version": "1.2.0",
          "model_name": "LayoutModel",
          "state": {
            "_model_module": "@jupyter-widgets/base",
            "_model_module_version": "1.2.0",
            "_model_name": "LayoutModel",
            "_view_count": null,
            "_view_module": "@jupyter-widgets/base",
            "_view_module_version": "1.2.0",
            "_view_name": "LayoutView",
            "align_content": null,
            "align_items": null,
            "align_self": null,
            "border": null,
            "bottom": null,
            "display": null,
            "flex": null,
            "flex_flow": null,
            "grid_area": null,
            "grid_auto_columns": null,
            "grid_auto_flow": null,
            "grid_auto_rows": null,
            "grid_column": null,
            "grid_gap": null,
            "grid_row": null,
            "grid_template_areas": null,
            "grid_template_columns": null,
            "grid_template_rows": null,
            "height": null,
            "justify_content": null,
            "justify_items": null,
            "left": null,
            "margin": null,
            "max_height": null,
            "max_width": null,
            "min_height": null,
            "min_width": null,
            "object_fit": null,
            "object_position": null,
            "order": null,
            "overflow": null,
            "overflow_x": null,
            "overflow_y": null,
            "padding": null,
            "right": null,
            "top": null,
            "visibility": null,
            "width": null
          }
        },
        "452d6f355dd4440cb131670c6ff6091e": {
          "model_module": "@jupyter-widgets/controls",
          "model_module_version": "1.5.0",
          "model_name": "HTMLModel",
          "state": {
            "_dom_classes": [],
            "_model_module": "@jupyter-widgets/controls",
            "_model_module_version": "1.5.0",
            "_model_name": "HTMLModel",
            "_view_count": null,
            "_view_module": "@jupyter-widgets/controls",
            "_view_module_version": "1.5.0",
            "_view_name": "HTMLView",
            "description": "",
            "description_tooltip": null,
            "layout": "IPY_MODEL_8c37f51ec4db404d9edd353e62f68eb6",
            "placeholder": "​",
            "style": "IPY_MODEL_bb4a192eafde4fd0b2bd195d25255ffd",
            "value": "Downloading (…)&quot;pytorch_model.bin&quot;;: 100%"
          }
        },
        "47ae5a211dcd40f08b2f6f237f2e07bc": {
          "model_module": "@jupyter-widgets/base",
          "model_module_version": "1.2.0",
          "model_name": "LayoutModel",
          "state": {
            "_model_module": "@jupyter-widgets/base",
            "_model_module_version": "1.2.0",
            "_model_name": "LayoutModel",
            "_view_count": null,
            "_view_module": "@jupyter-widgets/base",
            "_view_module_version": "1.2.0",
            "_view_name": "LayoutView",
            "align_content": null,
            "align_items": null,
            "align_self": null,
            "border": null,
            "bottom": null,
            "display": null,
            "flex": null,
            "flex_flow": null,
            "grid_area": null,
            "grid_auto_columns": null,
            "grid_auto_flow": null,
            "grid_auto_rows": null,
            "grid_column": null,
            "grid_gap": null,
            "grid_row": null,
            "grid_template_areas": null,
            "grid_template_columns": null,
            "grid_template_rows": null,
            "height": null,
            "justify_content": null,
            "justify_items": null,
            "left": null,
            "margin": null,
            "max_height": null,
            "max_width": null,
            "min_height": null,
            "min_width": null,
            "object_fit": null,
            "object_position": null,
            "order": null,
            "overflow": null,
            "overflow_x": null,
            "overflow_y": null,
            "padding": null,
            "right": null,
            "top": null,
            "visibility": null,
            "width": null
          }
        },
        "50ee24d45c1945eb86187a820dc4f87b": {
          "model_module": "@jupyter-widgets/controls",
          "model_module_version": "1.5.0",
          "model_name": "HBoxModel",
          "state": {
            "_dom_classes": [],
            "_model_module": "@jupyter-widgets/controls",
            "_model_module_version": "1.5.0",
            "_model_name": "HBoxModel",
            "_view_count": null,
            "_view_module": "@jupyter-widgets/controls",
            "_view_module_version": "1.5.0",
            "_view_name": "HBoxView",
            "box_style": "",
            "children": [
              "IPY_MODEL_452d6f355dd4440cb131670c6ff6091e",
              "IPY_MODEL_e91c08efa554484e80ebf471983290c9",
              "IPY_MODEL_aeae7d1e437f4ae8aff0c62f6a8981b6"
            ],
            "layout": "IPY_MODEL_007360e53ff546cda43ab5f49073f205"
          }
        },
        "635c579e3cd04151a0a41b2a7c7c5f13": {
          "model_module": "@jupyter-widgets/controls",
          "model_module_version": "1.5.0",
          "model_name": "ProgressStyleModel",
          "state": {
            "_model_module": "@jupyter-widgets/controls",
            "_model_module_version": "1.5.0",
            "_model_name": "ProgressStyleModel",
            "_view_count": null,
            "_view_module": "@jupyter-widgets/base",
            "_view_module_version": "1.2.0",
            "_view_name": "StyleView",
            "bar_color": null,
            "description_width": ""
          }
        },
        "8c37f51ec4db404d9edd353e62f68eb6": {
          "model_module": "@jupyter-widgets/base",
          "model_module_version": "1.2.0",
          "model_name": "LayoutModel",
          "state": {
            "_model_module": "@jupyter-widgets/base",
            "_model_module_version": "1.2.0",
            "_model_name": "LayoutModel",
            "_view_count": null,
            "_view_module": "@jupyter-widgets/base",
            "_view_module_version": "1.2.0",
            "_view_name": "LayoutView",
            "align_content": null,
            "align_items": null,
            "align_self": null,
            "border": null,
            "bottom": null,
            "display": null,
            "flex": null,
            "flex_flow": null,
            "grid_area": null,
            "grid_auto_columns": null,
            "grid_auto_flow": null,
            "grid_auto_rows": null,
            "grid_column": null,
            "grid_gap": null,
            "grid_row": null,
            "grid_template_areas": null,
            "grid_template_columns": null,
            "grid_template_rows": null,
            "height": null,
            "justify_content": null,
            "justify_items": null,
            "left": null,
            "margin": null,
            "max_height": null,
            "max_width": null,
            "min_height": null,
            "min_width": null,
            "object_fit": null,
            "object_position": null,
            "order": null,
            "overflow": null,
            "overflow_x": null,
            "overflow_y": null,
            "padding": null,
            "right": null,
            "top": null,
            "visibility": null,
            "width": null
          }
        },
        "aeae7d1e437f4ae8aff0c62f6a8981b6": {
          "model_module": "@jupyter-widgets/controls",
          "model_module_version": "1.5.0",
          "model_name": "HTMLModel",
          "state": {
            "_dom_classes": [],
            "_model_module": "@jupyter-widgets/controls",
            "_model_module_version": "1.5.0",
            "_model_name": "HTMLModel",
            "_view_count": null,
            "_view_module": "@jupyter-widgets/controls",
            "_view_module_version": "1.5.0",
            "_view_name": "HTMLView",
            "description": "",
            "description_tooltip": null,
            "layout": "IPY_MODEL_47ae5a211dcd40f08b2f6f237f2e07bc",
            "placeholder": "​",
            "style": "IPY_MODEL_f3865962746d414388cdf3af88589d7f",
            "value": " 268M/268M [00:00&lt;00:00, 311MB/s]"
          }
        },
        "bb4a192eafde4fd0b2bd195d25255ffd": {
          "model_module": "@jupyter-widgets/controls",
          "model_module_version": "1.5.0",
          "model_name": "DescriptionStyleModel",
          "state": {
            "_model_module": "@jupyter-widgets/controls",
            "_model_module_version": "1.5.0",
            "_model_name": "DescriptionStyleModel",
            "_view_count": null,
            "_view_module": "@jupyter-widgets/base",
            "_view_module_version": "1.2.0",
            "_view_name": "StyleView",
            "description_width": ""
          }
        },
        "c125a41bd8324bcba12b62415732f843": {
          "model_module": "@jupyter-widgets/base",
          "model_module_version": "1.2.0",
          "model_name": "LayoutModel",
          "state": {
            "_model_module": "@jupyter-widgets/base",
            "_model_module_version": "1.2.0",
            "_model_name": "LayoutModel",
            "_view_count": null,
            "_view_module": "@jupyter-widgets/base",
            "_view_module_version": "1.2.0",
            "_view_name": "LayoutView",
            "align_content": null,
            "align_items": null,
            "align_self": null,
            "border": null,
            "bottom": null,
            "display": null,
            "flex": null,
            "flex_flow": null,
            "grid_area": null,
            "grid_auto_columns": null,
            "grid_auto_flow": null,
            "grid_auto_rows": null,
            "grid_column": null,
            "grid_gap": null,
            "grid_row": null,
            "grid_template_areas": null,
            "grid_template_columns": null,
            "grid_template_rows": null,
            "height": null,
            "justify_content": null,
            "justify_items": null,
            "left": null,
            "margin": null,
            "max_height": null,
            "max_width": null,
            "min_height": null,
            "min_width": null,
            "object_fit": null,
            "object_position": null,
            "order": null,
            "overflow": null,
            "overflow_x": null,
            "overflow_y": null,
            "padding": null,
            "right": null,
            "top": null,
            "visibility": null,
            "width": null
          }
        },
        "e91c08efa554484e80ebf471983290c9": {
          "model_module": "@jupyter-widgets/controls",
          "model_module_version": "1.5.0",
          "model_name": "FloatProgressModel",
          "state": {
            "_dom_classes": [],
            "_model_module": "@jupyter-widgets/controls",
            "_model_module_version": "1.5.0",
            "_model_name": "FloatProgressModel",
            "_view_count": null,
            "_view_module": "@jupyter-widgets/controls",
            "_view_module_version": "1.5.0",
            "_view_name": "ProgressView",
            "bar_style": "success",
            "description": "",
            "description_tooltip": null,
            "layout": "IPY_MODEL_c125a41bd8324bcba12b62415732f843",
            "max": 267967963,
            "min": 0,
            "orientation": "horizontal",
            "style": "IPY_MODEL_635c579e3cd04151a0a41b2a7c7c5f13",
            "value": 267967963
          }
        },
        "f3865962746d414388cdf3af88589d7f": {
          "model_module": "@jupyter-widgets/controls",
          "model_module_version": "1.5.0",
          "model_name": "DescriptionStyleModel",
          "state": {
            "_model_module": "@jupyter-widgets/controls",
            "_model_module_version": "1.5.0",
            "_model_name": "DescriptionStyleModel",
            "_view_count": null,
            "_view_module": "@jupyter-widgets/base",
            "_view_module_version": "1.2.0",
            "_view_name": "StyleView",
            "description_width": ""
          }
        }
      }
    }
  },
  "nbformat": 4,
  "nbformat_minor": 0
}
