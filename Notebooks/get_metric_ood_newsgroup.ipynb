{
  "cells": [
    {
      "cell_type": "markdown",
      "metadata": {
        "id": "x8TYn723lfft"
      },
      "source": [
        "# Mahalanobis - Softmax - Trusted for 20Newsgroup Datasets"
      ]
    },
    {
      "cell_type": "code",
      "execution_count": 1,
      "metadata": {
        "id": "4jhNa_Hjlffv"
      },
      "outputs": [],
      "source": [
        "import numpy as np\n",
        "import torch\n",
        "import matplotlib.pyplot as plt\n",
        "import pandas as pd"
      ]
    },
    {
      "cell_type": "code",
      "execution_count": 2,
      "metadata": {
        "colab": {
          "base_uri": "https://localhost:8080/"
        },
        "id": "EdFVmJH8lffw",
        "outputId": "b0b0916a-44d6-4a03-ad6b-1711b51237e2"
      },
      "outputs": [
        {
          "name": "stdout",
          "output_type": "stream",
          "text": [
            "Mounted at /content/gdrive\n"
          ]
        }
      ],
      "source": [
        "from google.colab import drive\n",
        "drive.mount('/content/gdrive')"
      ]
    },
    {
      "cell_type": "code",
      "execution_count": 3,
      "metadata": {
        "colab": {
          "base_uri": "https://localhost:8080/"
        },
        "id": "Q5V5Q7fJlffx",
        "outputId": "c43c424b-53ca-42ff-f4c0-37a5cbce44cd"
      },
      "outputs": [
        {
          "name": "stdout",
          "output_type": "stream",
          "text": [
            "  Preparing metadata (setup.py) ... \u001b[?25l\u001b[?25hdone\n",
            "  Building wheel for nlp-ood-project (setup.py) ... \u001b[?25l\u001b[?25hdone\n",
            "Cloning into 'NLP_Project_OOD'...\n",
            "remote: Enumerating objects: 339, done.\u001b[K\n",
            "remote: Counting objects: 100% (78/78), done.\u001b[K\n",
            "remote: Compressing objects: 100% (39/39), done.\u001b[K\n",
            "remote: Total 339 (delta 40), reused 59 (delta 27), pack-reused 261\u001b[K\n",
            "Receiving objects: 100% (339/339), 747.41 KiB | 8.21 MiB/s, done.\n",
            "Resolving deltas: 100% (161/161), done.\n",
            "\u001b[2K     \u001b[90m━━━━━━━━━━━━━━━━━━━━━━━━━━━━━━━━━━━━━━━\u001b[0m \u001b[32m469.0/469.0 KB\u001b[0m \u001b[31m8.5 MB/s\u001b[0m eta \u001b[36m0:00:00\u001b[0m\n",
            "\u001b[2K     \u001b[90m━━━━━━━━━━━━━━━━━━━━━━━━━━━━━━━━━━━━━━━━\u001b[0m \u001b[32m6.3/6.3 MB\u001b[0m \u001b[31m69.1 MB/s\u001b[0m eta \u001b[36m0:00:00\u001b[0m\n",
            "\u001b[2K     \u001b[90m━━━━━━━━━━━━━━━━━━━━━━━━━━━━━━━━━━━━━━\u001b[0m \u001b[32m199.2/199.2 KB\u001b[0m \u001b[31m19.9 MB/s\u001b[0m eta \u001b[36m0:00:00\u001b[0m\n",
            "\u001b[2K     \u001b[90m━━━━━━━━━━━━━━━━━━━━━━━━━━━━━━━━━━━━━━━━\u001b[0m \u001b[32m7.6/7.6 MB\u001b[0m \u001b[31m86.4 MB/s\u001b[0m eta \u001b[36m0:00:00\u001b[0m\n",
            "\u001b[2K     \u001b[90m━━━━━━━━━━━━━━━━━━━━━━━━━━━━━━━━━━━━━━\u001b[0m \u001b[32m120.9/120.9 KB\u001b[0m \u001b[31m12.4 MB/s\u001b[0m eta \u001b[36m0:00:00\u001b[0m\n",
            "\u001b[2K     \u001b[90m━━━━━━━━━━━━━━━━━━━━━━━━━━━━━━━━━━━━━━\u001b[0m \u001b[32m212.2/212.2 KB\u001b[0m \u001b[31m18.8 MB/s\u001b[0m eta \u001b[36m0:00:00\u001b[0m\n",
            "\u001b[2K     \u001b[90m━━━━━━━━━━━━━━━━━━━━━━━━━━━━━━━━━━━━━━━━\u001b[0m \u001b[32m1.0/1.0 MB\u001b[0m \u001b[31m47.9 MB/s\u001b[0m eta \u001b[36m0:00:00\u001b[0m\n",
            "\u001b[2K     \u001b[90m━━━━━━━━━━━━━━━━━━━━━━━━━━━━━━━━━━━━━━━\u001b[0m \u001b[32m110.5/110.5 KB\u001b[0m \u001b[31m9.9 MB/s\u001b[0m eta \u001b[36m0:00:00\u001b[0m\n",
            "\u001b[2K     \u001b[90m━━━━━━━━━━━━━━━━━━━━━━━━━━━━━━━━━━━━━━━\u001b[0m \u001b[32m132.9/132.9 KB\u001b[0m \u001b[31m9.1 MB/s\u001b[0m eta \u001b[36m0:00:00\u001b[0m\n",
            "\u001b[2K     \u001b[90m━━━━━━━━━━━━━━━━━━━━━━━━━━━━━━━━━━━━━━\u001b[0m \u001b[32m158.8/158.8 KB\u001b[0m \u001b[31m13.8 MB/s\u001b[0m eta \u001b[36m0:00:00\u001b[0m\n",
            "\u001b[2K     \u001b[90m━━━━━━━━━━━━━━━━━━━━━━━━━━━━━━━━━━━━━━\u001b[0m \u001b[32m114.2/114.2 KB\u001b[0m \u001b[31m10.2 MB/s\u001b[0m eta \u001b[36m0:00:00\u001b[0m\n",
            "\u001b[2K     \u001b[90m━━━━━━━━━━━━━━━━━━━━━━━━━━━━━━━━━━━━━━\u001b[0m \u001b[32m199.2/199.2 KB\u001b[0m \u001b[31m18.2 MB/s\u001b[0m eta \u001b[36m0:00:00\u001b[0m\n",
            "\u001b[2K     \u001b[90m━━━━━━━━━━━━━━━━━━━━━━━━━━━━━━━━━━━━━━\u001b[0m \u001b[32m264.6/264.6 KB\u001b[0m \u001b[31m21.8 MB/s\u001b[0m eta \u001b[36m0:00:00\u001b[0m\n",
            "\u001b[2K     \u001b[90m━━━━━━━━━━━━━━━━━━━━━━━━━━━━━━━━━━━━━━━━\u001b[0m \u001b[32m83.6/83.6 KB\u001b[0m \u001b[31m8.6 MB/s\u001b[0m eta \u001b[36m0:00:00\u001b[0m\n",
            "\u001b[2K     \u001b[90m━━━━━━━━━━━━━━━━━━━━━━━━━━━━━━━━━━━━━━━━\u001b[0m \u001b[32m1.6/1.6 MB\u001b[0m \u001b[31m66.1 MB/s\u001b[0m eta \u001b[36m0:00:00\u001b[0m\n",
            "\u001b[?25h"
          ]
        }
      ],
      "source": [
        "!pip install git+https://github.com/Julien2048/NLP_Project_OOD.git --quiet\n",
        "!git clone https://github.com/Julien2048/NLP_Project_OOD\n",
        "!pip install -r NLP_Project_OOD/requirements.txt --quiet"
      ]
    },
    {
      "cell_type": "code",
      "execution_count": 4,
      "metadata": {
        "colab": {
          "base_uri": "https://localhost:8080/"
        },
        "id": "N1NXbltJlffx",
        "outputId": "53cae9b0-37c8-4816-fd50-3c7cdd449fa5"
      },
      "outputs": [
        {
          "name": "stdout",
          "output_type": "stream",
          "text": [
            "/content/gdrive/MyDrive/NLP_Project_OOD/distilbert\n",
            "/content/gdrive/MyDrive/NLP_Project_OOD\n",
            "/content/gdrive/MyDrive/NLP_Project_OOD/transformers\n",
            "/content/gdrive\n"
          ]
        }
      ],
      "source": [
        "%cd gdrive/MyDrive/NLP_Project_OOD/distilbert\n",
        "!rm /usr/local/lib/python3.9/dist-packages/transformers/models/distilbert/modeling_distilbert.py\n",
        "!cp modeling_distilbert.py /usr/local/lib/python3.9/dist-packages/transformers/models/distilbert/\n",
        "\n",
        "!rm /usr/local/lib/python3.9/dist-packages/transformers/models/distilbert/__init__.py\n",
        "!cp __init__.py /usr/local/lib/python3.9/dist-packages/transformers/models/distilbert/\n",
        "%cd ..\n",
        "\n",
        "%cd transformers\n",
        "!rm /usr/local/lib/python3.9/dist-packages/transformers/__init__.py\n",
        "!cp __init__.py /usr/local/lib/python3.9/dist-packages/transformers/\n",
        "%cd ../../.."
      ]
    },
    {
      "cell_type": "code",
      "execution_count": 5,
      "metadata": {
        "id": "8KnMZAWwlffy"
      },
      "outputs": [],
      "source": [
        "from nlp_project.data_loader import NewsgroupDataset\n",
        "from nlp_project.OOD_detector import Mahalanobis, MaxSoftmax, IRW, KLDivergence\n",
        "from nlp_project.metrics import ResultsOOD\n",
        "from nlp_project.BERT_adaptation import DistilBertClassifier"
      ]
    },
    {
      "cell_type": "markdown",
      "metadata": {
        "id": "aWHIV9m5lffy"
      },
      "source": [
        "## Load Classifier"
      ]
    },
    {
      "cell_type": "code",
      "execution_count": 6,
      "metadata": {
        "id": "Z-6p4EE0lffy"
      },
      "outputs": [],
      "source": [
        "# Check if a GPU is available\n",
        "if torch.cuda.is_available():\n",
        "    device = torch.device('cuda')\n",
        "else:\n",
        "    device = torch.device('cpu')"
      ]
    },
    {
      "cell_type": "code",
      "execution_count": 7,
      "metadata": {
        "id": "4g5eHBEVlffz"
      },
      "outputs": [],
      "source": [
        "model_prelogits = DistilBertClassifier(\n",
        "    device=device,\n",
        "    prelogits=True,\n",
        "    path_pretrained_model=\"/content/gdrive/MyDrive/NLP_Project_OOD/models_trained/model_newsgroup_distilbert/\",\n",
        "    num_labels=15,\n",
        "    )\n",
        "model_hidden_state = DistilBertClassifier(\n",
        "    device=device,\n",
        "    prelogits=False,\n",
        "    path_pretrained_model=\"/content/gdrive/MyDrive/NLP_Project_OOD/models_trained/model_newsgroup_distilbert/\",\n",
        "    num_labels=15,\n",
        "    )"
      ]
    },
    {
      "cell_type": "code",
      "execution_count": null,
      "metadata": {},
      "outputs": [],
      "source": [
        "newsgroup_in_prelogits_train, newsgroup_in_logits_train = model_prelogits.load_prelogit_logit(\"newsgroup_in\", \"train\", path=\"/content/gdrive/MyDrive/NLP_Project_OOD/logits-prelogits/newsgroup/\")\n",
        "newsgroup_in_prelogits_test, newsgroup_in_logits_test = model_prelogits.load_prelogit_logit(\"newsgroup_in\", \"test\", path=\"/content/gdrive/MyDrive/NLP_Project_OOD/logits-prelogits/newsgroup/\")\n",
        "\n",
        "newsgroup_out_prelogits_test, newsgroup_out_logits_test = model_prelogits.load_prelogit_logit(\"newsgroup_out\", \"test\", path=\"/content/gdrive/MyDrive/NLP_Project_OOD/logits-prelogits/newsgroup/\")"
      ]
    },
    {
      "cell_type": "code",
      "execution_count": null,
      "metadata": {},
      "outputs": [],
      "source": [
        "newsgroup_in_hidden_state_train = model_hidden_state.load_hidden_layer(\"newsgroup_in\", \"train\", path=\"/content/gdrive/MyDrive/NLP_Project_OOD/hidden_layer/newsgroup/\")\n",
        "newsgroup_in_hidden_state_test = model_hidden_state.load_hidden_layer(\"newsgroup_in\", \"test\", path=\"/content/gdrive/MyDrive/NLP_Project_OOD/hidden_layer/newsgroup/\")\n",
        "\n",
        "newsgroup_out_hidden_state_test = model_hidden_state.load_hidden_layer(\"newsgroup_out\", \"test\", path=\"/content/gdrive/MyDrive/NLP_Project_OOD/hidden_layer/newsgroup/\")"
      ]
    },
    {
      "cell_type": "markdown",
      "metadata": {
        "id": "SgCGmjMflff0"
      },
      "source": [
        "## Computing OOD"
      ]
    },
    {
      "cell_type": "markdown",
      "metadata": {
        "id": "6voUtsrR0NO4"
      },
      "source": [
        "### Logits"
      ]
    },
    {
      "cell_type": "markdown",
      "metadata": {
        "id": "8vQqnDbGlff4"
      },
      "source": [
        "#### Maximum Softmax"
      ]
    },
    {
      "cell_type": "code",
      "execution_count": null,
      "metadata": {
        "colab": {
          "base_uri": "https://localhost:8080/",
          "height": 296
        },
        "id": "Xk5RRJtKGnNp",
        "outputId": "c29d2831-fbe2-4fd6-d08d-2814f2075bca"
      },
      "outputs": [],
      "source": [
        "softmax = MaxSoftmax(\n",
        "    newsgroup_in_logits_test,\n",
        "    newsgroup_out_logits_test,\n",
        ")\n",
        "onehots_softmax, scores_softmax = softmax()\n",
        "results_softmax = ResultsOOD(onehots_softmax, scores_softmax, add_to_title=\"Maximum Softmax: 20Newsgroup\", plot_several=True)\n",
        "results_softmax()\n",
        "softmax_auroc, softmax_aupr, softmax_frp = results_softmax.auroc, results_softmax.aupr, results_softmax.fpr"
      ]
    },
    {
      "cell_type": "markdown",
      "metadata": {
        "id": "nUihfUPFi_xL"
      },
      "source": [
        "#### KL Divergence"
      ]
    },
    {
      "cell_type": "code",
      "execution_count": null,
      "metadata": {
        "colab": {
          "base_uri": "https://localhost:8080/",
          "height": 296
        },
        "id": "4VyTQZ6ujCjw",
        "outputId": "73a4cf0e-d5f1-4b93-f6b5-272ed3823675"
      },
      "outputs": [],
      "source": [
        "kl = KLDivergence(\n",
        "    newsgroup_in_logits_test,\n",
        "    newsgroup_out_logits_test,\n",
        ")\n",
        "onehots_kl, scores_kl = kl()\n",
        "results_kl = ResultsOOD(onehots_kl, scores_kl, add_to_title=\"KL Divergence: 20Newsgroup\", plot_several=True)\n",
        "results_kl()\n",
        "kl_auroc, kl_aupr, kl_frp = results_kl.auroc, results_kl.aupr, results_kl.fpr"
      ]
    },
    {
      "cell_type": "markdown",
      "metadata": {
        "id": "8X6j6yqz0jbq"
      },
      "source": [
        "### PreLogits"
      ]
    },
    {
      "cell_type": "markdown",
      "metadata": {
        "id": "edZl6TvPlff1"
      },
      "source": [
        "#### Mahalanobis Score"
      ]
    },
    {
      "cell_type": "code",
      "execution_count": null,
      "metadata": {
        "colab": {
          "base_uri": "https://localhost:8080/",
          "height": 329
        },
        "id": "SMuZtPjnlff1",
        "outputId": "a308843e-04a6-4d1a-b070-1cdf9fd5e7be"
      },
      "outputs": [],
      "source": [
        "get_newsgroup = NewsgroupDataset()\n",
        "newsgroup_in_train_labels, newsgroup_in_test_labels, newsgroup_out_test_labels = get_newsgroup.load_labels(\"/content/gdrive/MyDrive/NLP_Project_OOD/data/newsgroup/\")\n",
        "\n",
        "maha = Mahalanobis(\n",
        "    newsgroup_in_prelogits_train,\n",
        "    newsgroup_in_prelogits_test,\n",
        "    newsgroup_out_prelogits_test,\n",
        "    newsgroup_in_train_labels,\n",
        "    substract_mean = False,\n",
        "    normalize_to_unity = False,\n",
        "    substract_train_distance = False,\n",
        "    norm_name = \"L1\"\n",
        ")\n",
        "onehots_maha, scores_maha = maha()\n",
        "results_maha = ResultsOOD(onehots_maha, scores_maha, add_to_title=\"Mahalanobis Score: 20Newsgroup\", plot_several=True)\n",
        "results_maha()\n",
        "maha_auroc, maha_aupr, maha_frp = results_maha.auroc, results_maha.aupr, results_maha.fpr"
      ]
    },
    {
      "cell_type": "markdown",
      "metadata": {
        "id": "DVyVkMkT0una"
      },
      "source": [
        "### F_PM"
      ]
    },
    {
      "cell_type": "markdown",
      "metadata": {
        "id": "rmosV_nnHd54"
      },
      "source": [
        "#### IRW Score"
      ]
    },
    {
      "cell_type": "code",
      "execution_count": null,
      "metadata": {
        "colab": {
          "base_uri": "https://localhost:8080/",
          "height": 1000
        },
        "id": "iQkv3taJHi2S",
        "outputId": "4f3d536d-8357-40dc-aa73-4ffe00f8b2a0"
      },
      "outputs": [],
      "source": [
        "irw = IRW(\n",
        "    in_train=newsgroup_in_hidden_state_train[:1000],\n",
        "    in_test=newsgroup_in_hidden_state_test[:100],\n",
        "    out_test=newsgroup_out_hidden_state_test[:100],\n",
        "    n_dirs=768\n",
        ")\n",
        "onehots_irw, scores_irw = irw()\n",
        "results_irw = ResultsOOD(onehots_irw, scores_irw, add_to_title=\"IRW Score: 20Newsgroup\", plot_several=True)\n",
        "results_irw()\n",
        "irw_auroc, irw_aupr, irw_frp = results_irw.auroc, results_irw.aupr, results_irw.fpr"
      ]
    },
    {
      "cell_type": "markdown",
      "metadata": {
        "id": "hOTeGHbfro7s"
      },
      "source": [
        "### Conclusion"
      ]
    },
    {
      "cell_type": "code",
      "execution_count": null,
      "metadata": {
        "colab": {
          "base_uri": "https://localhost:8080/",
          "height": 584
        },
        "id": "x7rKP-41rqTz",
        "outputId": "34ac700d-6475-4798-a1a2-1c8233598a87"
      },
      "outputs": [],
      "source": [
        "results = [results_softmax, results_kl, results_maha, results_irw]\n",
        "plt.figure(figsize=(20, 8))\n",
        "\n",
        "for result in results:\n",
        "    plt.subplot(2, 2, results.index(result)+1)\n",
        "    result()"
      ]
    },
    {
      "cell_type": "markdown",
      "metadata": {
        "id": "w-A0Axs6rtww"
      },
      "source": [
        "### Summary Table"
      ]
    },
    {
      "cell_type": "code",
      "execution_count": 63,
      "metadata": {
        "id": "MIAp4tkgr8RB"
      },
      "outputs": [],
      "source": [
        "scores = ['MaxSoftmax', 'KL Divergence', 'Mahalanobis', 'IRW']\n",
        "aggregation = ['Logits', 'Logits', 'Prelogits', 'F_PM']\n",
        "\n",
        "auroc = [softmax_auroc, kl_auroc, maha_auroc, irw_auroc]\n",
        "aupr = [softmax_aupr, kl_aupr, maha_aupr, irw_aupr]\n",
        "fpr = [softmax_frp, kl_frp, maha_frp, irw_frp]\n",
        "\n",
        "df = pd.DataFrame({'Datasets (out)':['20Newsgroup']*4, 'Scores':scores, 'Aggregation':aggregation, 'AUROC':auroc, 'AUPR':aupr, 'FPR':fpr})\n",
        "\n",
        "def round_two_decimals(x):\n",
        "    return \"{:.1f}%\".format(x * 100)\n",
        "\n",
        "# apply the function to columns 'A' and 'B'\n",
        "df[['AUROC', 'AUPR', 'FPR']] = df[['AUROC', 'AUPR', 'FPR']].applymap(round_two_decimals)"
      ]
    },
    {
      "cell_type": "code",
      "execution_count": null,
      "metadata": {
        "colab": {
          "base_uri": "https://localhost:8080/",
          "height": 565
        },
        "id": "72jNq-rbtmGw",
        "outputId": "b60bc0fa-59af-4e3c-83a0-f16a982352d1"
      },
      "outputs": [],
      "source": [
        "df"
      ]
    }
  ],
  "metadata": {
    "colab": {
      "provenance": []
    },
    "gpuClass": "standard",
    "kernelspec": {
      "display_name": "Python 3.9.16",
      "language": "python",
      "name": "python3"
    },
    "language_info": {
      "name": "python",
      "version": "3.9.0"
    },
    "orig_nbformat": 4,
    "vscode": {
      "interpreter": {
        "hash": "94c862a48bf8eefe8e4c17f1f586aa54027748f6e3c5245bee9aab96d45bbe66"
      }
    }
  },
  "nbformat": 4,
  "nbformat_minor": 0
}
