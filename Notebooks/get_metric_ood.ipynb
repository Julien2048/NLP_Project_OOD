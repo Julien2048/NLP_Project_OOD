{
 "cells": [
  {
   "cell_type": "markdown",
   "metadata": {},
   "source": [
    "# Mahalanobis - Softmax - Trusted for IMDB, Movie Review and MNLI Datasets"
   ]
  },
  {
   "cell_type": "code",
   "execution_count": null,
   "metadata": {},
   "outputs": [],
   "source": [
    "import numpy as np\n",
    "import torch"
   ]
  },
  {
   "cell_type": "code",
   "execution_count": null,
   "metadata": {},
   "outputs": [],
   "source": [
    "from google.colab import drive\n",
    "drive.mount('/content/gdrive')"
   ]
  },
  {
   "cell_type": "code",
   "execution_count": null,
   "metadata": {},
   "outputs": [],
   "source": [
    "!pip install git+https://github.com/Julien2048/NLP_Project_OOD.git --quiet\n",
    "!git clone https://github.com/Julien2048/NLP_Project_OOD\n",
    "!pip install -r NLP_Project_OOD/requirements.txt --quiet"
   ]
  },
  {
   "cell_type": "code",
   "execution_count": null,
   "metadata": {},
   "outputs": [],
   "source": [
    "%cd gdrive/MyDrive/NLP_Project_OOD/distilbert\n",
    "!rm /usr/local/lib/python3.8/dist-packages/transformers/models/distilbert/modeling_distilbert.py\n",
    "!cp modeling_distilbert.py /usr/local/lib/python3.8/dist-packages/transformers/models/distilbert/\n",
    "\n",
    "!rm /usr/local/lib/python3.8/dist-packages/transformers/models/distilbert/__init__.py\n",
    "!cp __init__.py /usr/local/lib/python3.8/dist-packages/transformers/models/distilbert/\n",
    "%cd ..\n",
    "\n",
    "%cd transformers\n",
    "!rm /usr/local/lib/python3.8/dist-packages/transformers/__init__.py\n",
    "!cp __init__.py /usr/local/lib/python3.8/dist-packages/transformers/\n",
    "%cd ..\n",
    "%cd ..\n",
    "%cd ..\n",
    "%cd .."
   ]
  },
  {
   "cell_type": "code",
   "execution_count": null,
   "metadata": {},
   "outputs": [],
   "source": [
    "from nlp_project.data_loader import IMDBDataset\n",
    "from nlp_project.OOD_detector import Mahalanobis\n",
    "from nlp_project.metrics import ResultsOOD\n",
    "from nlp_project.BERT_adaptation import DistilBertClassifier"
   ]
  },
  {
   "cell_type": "markdown",
   "metadata": {},
   "source": [
    "## Load Classifier"
   ]
  },
  {
   "cell_type": "code",
   "execution_count": null,
   "metadata": {},
   "outputs": [],
   "source": [
    "# Check if a GPU is available\n",
    "if torch.cuda.is_available():\n",
    "    device = torch.device('cuda')\n",
    "else:\n",
    "    device = torch.device('cpu')"
   ]
  },
  {
   "cell_type": "code",
   "execution_count": null,
   "metadata": {},
   "outputs": [],
   "source": [
    "model_prelogits = DistilBertClassifier(device=device, prelogits=True,training=False, path_pretrained_model=\"/NLP_Project_OOD/model_transformers/models_trained/model_imdb_distilbert\")\n",
    "model_hidden_state = DistilBertClassifier(device=device, prelogits=False, training=False, path_pretrained_model=\"/NLP_Project_OOD/model_transformers/models_trained/model_imdb_distilbert\")"
   ]
  },
  {
   "cell_type": "code",
   "execution_count": null,
   "metadata": {},
   "outputs": [],
   "source": [
    "imdb_prelogits_train, imdb_logits_train = model_prelogits.load_prelogit_logit(\"imdb\", \"train\", path=\"/content/gdrive/MyDrive/NLP_Project_OOD/logits-prelogits/imdb-mr-mnli/\")\n",
    "imdb_prelogits_test, imdb_logits_test = model_prelogits.load_prelogit_logit(\"imdb\", \"test\", path=\"/content/gdrive/MyDrive/NLP_Project_OOD/logits-prelogits/imdb-mr-mnli/\")\n",
    "\n",
    "movie_review_prelogits_test, movie_review_logits_test = model_prelogits.load_prelogit_logit(\"movie_review\", \"test\", path=\"/content/gdrive/MyDrive/NLP_Project_OOD/logits-prelogits/imdb-mr-mnli/\")\n",
    "mnli_prelogits_test, mnli_logits_test = model_prelogits.load_prelogit_logit( \"mnli\", \"test\", path=\"/content/gdrive/MyDrive/NLP_Project_OOD/logits-prelogits/imdb-mr-mnli/\")\n",
    "sst2_prelogits_test, sst2_logits_test = model_prelogits.load_prelogit_logit( \"sst2\", \"test\", path=\"/content/gdrive/MyDrive/NLP_Project_OOD/logits-prelogits/imdb-mr-mnli/\")\n",
    "rte_prelogits_test, rte_logits_test = model_prelogits.load_prelogit_logit( \"rte\", \"test\", path=\"/content/gdrive/MyDrive/NLP_Project_OOD/logits-prelogits/imdb-mr-mnli/\")"
   ]
  },
  {
   "cell_type": "code",
   "execution_count": null,
   "metadata": {},
   "outputs": [],
   "source": [
    "imdb_hidden_state_train = model_hidden_state.load_hidden_layer(\"imdb\", \"train\", path=\"/content/gdrive/MyDrive/NLP_Project_OOD/hidden_layer/imdb-mr-mnli/\")\n",
    "imdb_hidden_state_test = model_hidden_state.load_hidden_layer(\"imdb\", \"test\", path=\"/content/gdrive/MyDrive/NLP_Project_OOD/hidden_layer/imdb-mr-mnli/\")\n",
    "\n",
    "movie_review_hidden_state_test = model_hidden_state.load_hidden_layer(\"movie_review\", \"test\", path=\"/content/gdrive/MyDrive/NLP_Project_OOD/hidden_layer/imdb-mr-mnli/\")\n",
    "mnli_hidden_state_test = model_hidden_state.load_hidden_layer(\"mnli\", \"test\", path=\"/content/gdrive/MyDrive/NLP_Project_OOD/hidden_layer/imdb-mr-mnli/\")\n",
    "sst2_hidden_state_test = model_hidden_state.load_hidden_layer(\"sst2\", \"test\", path=\"/content/gdrive/MyDrive/NLP_Project_OOD/hidden_layer/imdb-mr-mnli/\")\n",
    "rte_hidden_state_test = model_hidden_state.load_hidden_layer(\"rte\", \"test\", path=\"/content/gdrive/MyDrive/NLP_Project_OOD/hidden_layer/imdb-mr-mnli/\")"
   ]
  },
  {
   "cell_type": "markdown",
   "metadata": {},
   "source": [
    "## Computing OOD"
   ]
  },
  {
   "cell_type": "markdown",
   "metadata": {},
   "source": [
    "### Mahalanobis Score"
   ]
  },
  {
   "cell_type": "markdown",
   "metadata": {},
   "source": [
    "#### IMDB - Movie Review"
   ]
  },
  {
   "cell_type": "code",
   "execution_count": null,
   "metadata": {},
   "outputs": [],
   "source": [
    "get_imdb = IMDBDataset()\n",
    "imdb_train_labels, imdb_test_labels = get_imdb.load_labels(\"/content/gdrive/MyDrive/NLP_Project_OOD/data/imdb/\")\n",
    "\n",
    "maha_imdb_mr = Mahalanobis(\n",
    "    imdb_prelogits_train,\n",
    "    imdb_prelogits_test,\n",
    "    movie_review_prelogits_test,\n",
    "    imdb_train_labels[:10000],\n",
    "    substract_mean = False,\n",
    "    normalize_to_unity = False,\n",
    "    substract_train_distance = False,\n",
    "    norm_name = \"L1\"\n",
    ")\n",
    "onehots_imdb_mr, scores_imdb_mr = maha_imdb_mr()\n",
    "results_imdb_mr = ResultsOOD(onehots_imdb_mr, scores_imdb_mr)\n",
    "results_imdb_mr()"
   ]
  },
  {
   "cell_type": "markdown",
   "metadata": {},
   "source": [
    "#### IMDB - MNLI"
   ]
  },
  {
   "cell_type": "code",
   "execution_count": null,
   "metadata": {},
   "outputs": [],
   "source": [
    "maha_imdb_mnli = Mahalanobis(\n",
    "    imdb_prelogits_train,\n",
    "    imdb_prelogits_test,\n",
    "    mnli_prelogits_test,\n",
    "    imdb_train_labels[:10000],\n",
    "    substract_mean = False,\n",
    "    normalize_to_unity = False,\n",
    "    substract_train_distance = False,\n",
    "    norm_name = \"L1\"\n",
    ")\n",
    "onehots_imdb_mnli, scores_imdb_mnli = maha_imdb_mnli()\n",
    "results_imdb_mnli = ResultsOOD(onehots_imdb_mnli, scores_imdb_mnli)\n",
    "results_imdb_mnli()"
   ]
  },
  {
   "cell_type": "markdown",
   "metadata": {},
   "source": [
    "#### IMDB - SST2"
   ]
  },
  {
   "cell_type": "code",
   "execution_count": null,
   "metadata": {},
   "outputs": [],
   "source": [
    "maha_imdb_sst2 = Mahalanobis(\n",
    "    imdb_prelogits_train,\n",
    "    imdb_prelogits_test,\n",
    "    sst2_prelogits_test,\n",
    "    imdb_train_labels[:10000],\n",
    "    substract_mean = False,\n",
    "    normalize_to_unity = False,\n",
    "    substract_train_distance = False,\n",
    "    norm_name = \"L1\"\n",
    ")\n",
    "onehots_imdb_sst2, scores_imdb_sst2 = maha_imdb_sst2()\n",
    "results_imdb_sst2 = ResultsOOD(onehots_imdb_sst2, scores_imdb_sst2)\n",
    "results_imdb_sst2()"
   ]
  },
  {
   "cell_type": "markdown",
   "metadata": {},
   "source": [
    "#### IMDB - RTE"
   ]
  },
  {
   "cell_type": "code",
   "execution_count": null,
   "metadata": {},
   "outputs": [],
   "source": [
    "maha_imdb_rte = Mahalanobis(\n",
    "    imdb_prelogits_train,\n",
    "    imdb_prelogits_test,\n",
    "    rte_prelogits_test,\n",
    "    imdb_train_labels[:10000],\n",
    "    substract_mean = False,\n",
    "    normalize_to_unity = False,\n",
    "    substract_train_distance = False,\n",
    "    norm_name = \"L1\"\n",
    ")\n",
    "onehots_imdb_rte, scores_imdb_rte = maha_imdb_rte()\n",
    "results_imdb_rte = ResultsOOD(onehots_imdb_rte, scores_imdb_rte)\n",
    "results_imdb_rte()"
   ]
  },
  {
   "cell_type": "markdown",
   "metadata": {},
   "source": [
    "### Maximum Softmax"
   ]
  },
  {
   "cell_type": "code",
   "execution_count": null,
   "metadata": {},
   "outputs": [],
   "source": [
    "def np_softmax(zs):\n",
    "  exps = np.exp(zs-np.max(zs))\n",
    "  return exps/np.sum(exps,axis=-1,keepdims=True)"
   ]
  },
  {
   "cell_type": "markdown",
   "metadata": {},
   "source": [
    "#### IMDB - Movie_review"
   ]
  },
  {
   "cell_type": "code",
   "execution_count": null,
   "metadata": {},
   "outputs": [],
   "source": [
    "scores = np.array(\n",
    "    np.concatenate([\n",
    "     np.max(np_softmax(imdb_logits_test),axis=-1),\n",
    "     np.max(np_softmax(movie_review_logits_test),axis=-1),\n",
    "    ],axis=0)\n",
    ")\n",
    "\n",
    "onehots = np.array(\n",
    "    [1]*len(imdb_logits_test)+[0]*len(movie_review_logits_test)\n",
    ")\n",
    "\n",
    "results = ResultsOOD(onehots, scores)\n",
    "results()"
   ]
  },
  {
   "cell_type": "markdown",
   "metadata": {},
   "source": [
    "#### IMDB - MNLI"
   ]
  },
  {
   "cell_type": "code",
   "execution_count": null,
   "metadata": {},
   "outputs": [],
   "source": [
    "scores = np.array(\n",
    "    np.concatenate([\n",
    "     np.max(np_softmax(imdb_logits_test),axis=-1),\n",
    "     np.max(np_softmax(mnli_logits_test),axis=-1),\n",
    "    ],axis=0)\n",
    ")\n",
    "\n",
    "onehots = np.array(\n",
    "    [1]*len(imdb_logits_test)+[0]*len(mnli_logits_test)\n",
    ")\n",
    "\n",
    "results = ResultsOOD(onehots, scores)\n",
    "results()"
   ]
  },
  {
   "cell_type": "markdown",
   "metadata": {},
   "source": [
    "#### IMDB - SST2"
   ]
  },
  {
   "cell_type": "code",
   "execution_count": null,
   "metadata": {},
   "outputs": [],
   "source": [
    "scores = np.array(\n",
    "    np.concatenate([\n",
    "     np.max(np_softmax(imdb_logits_test),axis=-1),\n",
    "     np.max(np_softmax(sst2_logits_test),axis=-1),\n",
    "    ],axis=0)\n",
    ")\n",
    "\n",
    "onehots = np.array(\n",
    "    [1]*len(imdb_logits_test)+[0]*len(sst2_logits_test)\n",
    ")\n",
    "\n",
    "results = ResultsOOD(onehots, scores)\n",
    "results()"
   ]
  },
  {
   "cell_type": "markdown",
   "metadata": {},
   "source": [
    "#### IMDB - RTE"
   ]
  },
  {
   "cell_type": "code",
   "execution_count": null,
   "metadata": {},
   "outputs": [],
   "source": [
    "scores = np.array(\n",
    "    np.concatenate([\n",
    "     np.max(np_softmax(imdb_logits_test),axis=-1),\n",
    "     np.max(np_softmax(rte_logits_test),axis=-1),\n",
    "    ],axis=0)\n",
    ")\n",
    "\n",
    "onehots = np.array(\n",
    "    [1]*len(imdb_logits_test)+[0]*len(rte_logits_test)\n",
    ")\n",
    "\n",
    "results = ResultsOOD(onehots, scores)\n",
    "results()"
   ]
  }
 ],
 "metadata": {
  "kernelspec": {
   "display_name": "Python 3.10.9",
   "language": "python",
   "name": "python3"
  },
  "language_info": {
   "name": "python",
   "version": "3.10.9"
  },
  "orig_nbformat": 4,
  "vscode": {
   "interpreter": {
    "hash": "e91f408a413f703ba5246387f7879b64ff82cdbe1e6e5e005ccd198f424ee20e"
   }
  }
 },
 "nbformat": 4,
 "nbformat_minor": 2
}
